{
  "nbformat": 4,
  "nbformat_minor": 0,
  "metadata": {
    "colab": {
      "name": "Untitled8.ipynb",
      "provenance": [],
      "collapsed_sections": [],
      "authorship_tag": "ABX9TyOpfFwOBAbCo2tlVBf2o/gX",
      "include_colab_link": true
    },
    "kernelspec": {
      "name": "python3",
      "display_name": "Python 3"
    }
  },
  "cells": [
    {
      "cell_type": "markdown",
      "metadata": {
        "id": "view-in-github",
        "colab_type": "text"
      },
      "source": [
        "<a href=\"https://colab.research.google.com/github/engineercha/ai-class/blob/master/Untitled8.ipynb\" target=\"_parent\"><img src=\"https://colab.research.google.com/assets/colab-badge.svg\" alt=\"Open In Colab\"/></a>"
      ]
    },
    {
      "cell_type": "code",
      "metadata": {
        "id": "QFtIFdlj8Q9y"
      },
      "source": [
        "import tensorflow as tf\r\n",
        "from tensorflow import keras\r\n",
        "import numpy as np\r\n",
        "import matplotlib.pyplot as plt"
      ],
      "execution_count": null,
      "outputs": []
    },
    {
      "cell_type": "markdown",
      "metadata": {
        "id": "8wWnKUv796kM"
      },
      "source": [
        ""
      ]
    },
    {
      "cell_type": "code",
      "metadata": {
        "colab": {
          "base_uri": "https://localhost:8080/"
        },
        "id": "-pzVU0Qm9vHU",
        "outputId": "064a80db-d665-498d-9d1a-3259b7180532"
      },
      "source": [
        "mnist = keras.datasets.mnist\r\n",
        "(x_train, y_train), (x_test, y_test) = mnist.load_data()\r\n",
        "\r\n",
        "print(len(x_train))"
      ],
      "execution_count": null,
      "outputs": [
        {
          "output_type": "stream",
          "text": [
            "Downloading data from https://storage.googleapis.com/tensorflow/tf-keras-datasets/mnist.npz\n",
            "11493376/11490434 [==============================] - 0s 0us/step\n",
            "60000\n"
          ],
          "name": "stdout"
        }
      ]
    },
    {
      "cell_type": "code",
      "metadata": {
        "colab": {
          "base_uri": "https://localhost:8080/",
          "height": 265
        },
        "id": "fmK-jdJ_99QB",
        "outputId": "8120b595-9bc8-4499-e9af-64135141bc49"
      },
      "source": [
        "plt.imshow(x_train[1],cmap=plt.cm.binary)\r\n",
        "plt.show()"
      ],
      "execution_count": null,
      "outputs": [
        {
          "output_type": "display_data",
          "data": {
            "image/png": "[encoded data removed]",
            "text/plain": [
              "<Figure size 432x288 with 1 Axes>"
            ]
          },
          "metadata": {
            "tags": [],
            "needs_background": "light"
          }
        }
      ]
    },
    {
      "cell_type": "code",
      "metadata": {
        "colab": {
          "base_uri": "https://localhost:8080/"
        },
        "id": "YtSuYVAa-Hkq",
        "outputId": "d65fee92-8664-4114-e792-a17b0482bbef"
      },
      "source": [
        "print(y_train[1])"
      ],
      "execution_count": null,
      "outputs": [
        {
          "output_type": "stream",
          "text": [
            "0\n"
          ],
          "name": "stdout"
        }
      ]
    },
    {
      "cell_type": "code",
      "metadata": {
        "colab": {
          "base_uri": "https://localhost:8080/"
        },
        "id": "0U48bo72-MG4",
        "outputId": "7d590ca1-9987-4c63-9db7-88931f4d1274"
      },
      "source": [
        "print(x_train.shape)\r\n",
        "print(x_test.shape)"
      ],
      "execution_count": null,
      "outputs": [
        {
          "output_type": "stream",
          "text": [
            "(60000, 28, 28)\n",
            "(10000, 28, 28)\n"
          ],
          "name": "stdout"
        }
      ]
    },
    {
      "cell_type": "code",
      "metadata": {
        "colab": {
          "base_uri": "https://localhost:8080/"
        },
        "id": "7lj8rv8J-QJz",
        "outputId": "1d6870a7-51d7-4f99-9a0b-ce8676449c77"
      },
      "source": [
        "print(np.min(x_train), np.max(x_train))"
      ],
      "execution_count": null,
      "outputs": [
        {
          "output_type": "stream",
          "text": [
            "0 255\n"
          ],
          "name": "stdout"
        }
      ]
    },
    {
      "cell_type": "markdown",
      "metadata": {
        "id": "QpnTCigm-cO1"
      },
      "source": [
        "숫자 이미지의 픽셀 값은 0부터 255 사이임. 모든 픽셀 값이 0~1 사이 값을 갖도록 정규화 시킬 것임."
      ]
    },
    {
      "cell_type": "code",
      "metadata": {
        "colab": {
          "base_uri": "https://localhost:8080/"
        },
        "id": "ck3mL9VV-bZA",
        "outputId": "5625f976-9ac2-4af5-c2ce-6762af097fe3"
      },
      "source": [
        "x_train_norm, x_test_norm = x_train/255.0, x_test/255.0\r\n",
        "\r\n",
        "print(np.min(x_train_norm), np.max(x_train_norm))"
      ],
      "execution_count": null,
      "outputs": [
        {
          "output_type": "stream",
          "text": [
            "0.0 1.0\n"
          ],
          "name": "stdout"
        }
      ]
    },
    {
      "cell_type": "markdown",
      "metadata": {
        "id": "jVywlQPyLEcT"
      },
      "source": [
        "##네트워크 설계"
      ]
    },
    {
      "cell_type": "code",
      "metadata": {
        "id": "ATrJgsn--tl1"
      },
      "source": [
        "model=keras.models.Sequential()\r\n",
        "\r\n",
        "model.add(keras.layers.Conv2D(16, (3,3), activation='relu', input_shape=(28,28,1)))\r\n",
        "model.add(keras.layers.MaxPool2D(2,2))\r\n",
        "model.add(keras.layers.Conv2D(32, (3,3), activation='relu'))  # Conv2D의 첫번째 인자 = 필터 수 = 추출할 특징 수\r\n",
        "model.add(keras.layers.MaxPooling2D((2,2)))\r\n",
        "model.add(keras.layers.Flatten())\r\n",
        "model.add(keras.layers.Dense(32, activation='relu'))\r\n",
        "model.add(keras.layers.Dense(10, activation='softmax')) # 최종 분류기의 첫번째 인자 = 결과적으로 분류해야 하는 class 수"
      ],
      "execution_count": null,
      "outputs": []
    },
    {
      "cell_type": "markdown",
      "metadata": {
        "id": "aTH4gH3A_DT3"
      },
      "source": [
        "7개의 층이 있고, 층마다 하는 역할이 다름. Conv2D로 특징 추출, Pooling은 두드러지게, Flatten로 픽셀 값을 납작하게 만들어(=이미지 데이터를 1차원의 배열로 바꿈) 주므로서 계산이 가능해짐. 보통 추출 > 부각 순이며, Dense로 학습함.\r\n",
        "\r\n",
        "flatten 전까지는 특징을 추출하고, 후로는 최종적으로 어느 숫자에 해당하는지 분류함. 마지막 Dense의 첫번째 인자가 10이고, activation이 softmax인 것은 MNIST를 10개의 class 중 확률로서 분류할 것이 때문임. "
      ]
    },
    {
      "cell_type": "code",
      "metadata": {
        "id": "ebHCWoslYIWP"
      },
      "source": [
        "hi hello how are you im fume thank you and you?"
      ],
      "execution_count": null,
      "outputs": []
    },
    {
      "cell_type": "code",
      "metadata": {
        "colab": {
          "base_uri": "https://localhost:8080/"
        },
        "id": "6gtsPkZnJHRZ",
        "outputId": "a9b03415-650b-4f31-8c6a-586591fab354"
      },
      "source": [
        "model.summary()"
      ],
      "execution_count": null,
      "outputs": [
        {
          "output_type": "stream",
          "text": [
            "Model: \"sequential_6\"\n",
            "_________________________________________________________________\n",
            "Layer (type)                 Output Shape              Param #   \n",
            "=================================================================\n",
            "conv2d_12 (Conv2D)           (None, 26, 26, 16)        160       \n",
            "_________________________________________________________________\n",
            "max_pooling2d_12 (MaxPooling (None, 13, 13, 16)        0         \n",
            "_________________________________________________________________\n",
            "conv2d_13 (Conv2D)           (None, 11, 11, 32)        4640      \n",
            "_________________________________________________________________\n",
            "max_pooling2d_13 (MaxPooling (None, 5, 5, 32)          0         \n",
            "_________________________________________________________________\n",
            "flatten_6 (Flatten)          (None, 800)               0         \n",
            "_________________________________________________________________\n",
            "dense_2 (Dense)              (None, 32)                25632     \n",
            "_________________________________________________________________\n",
            "dense_3 (Dense)              (None, 10)                330       \n",
            "=================================================================\n",
            "Total params: 30,762\n",
            "Trainable params: 30,762\n",
            "Non-trainable params: 0\n",
            "_________________________________________________________________\n"
          ],
          "name": "stdout"
        }
      ]
    },
    {
      "cell_type": "markdown",
      "metadata": {
        "id": "HA2XrV-QDtEe"
      },
      "source": [
        "## 학습 진행"
      ]
    },
    {
      "cell_type": "code",
      "metadata": {
        "colab": {
          "base_uri": "https://localhost:8080/"
        },
        "id": "A-6zj1QN_4Ab",
        "outputId": "a6b782d2-2cf3-49c6-a5f3-987d53c2169f"
      },
      "source": [
        "print(np.shape(x_test_norm), np.shape(x_train_norm))"
      ],
      "execution_count": null,
      "outputs": [
        {
          "output_type": "stream",
          "text": [
            "(10000, 28, 28) (60000, 28, 28)\n"
          ],
          "name": "stdout"
        }
      ]
    },
    {
      "cell_type": "code",
      "metadata": {
        "id": "nRiFFr1aD2vT"
      },
      "source": [
        "x_train_reshaped = x_train_norm.reshape(-1, 28, 28, 1)\r\n",
        "x_test_reshaped = x_test_norm.reshape(-1, 28, 28, 1)"
      ],
      "execution_count": null,
      "outputs": []
    },
    {
      "cell_type": "code",
      "metadata": {
        "colab": {
          "base_uri": "https://localhost:8080/"
        },
        "id": "aQ6GZqffMW7F",
        "outputId": "13dfd313-f698-4ccd-c41b-c8289c744176"
      },
      "source": [
        "model.compile(optimizer ='adam',\r\n",
        "              loss = 'sparse_categorical_crossentropy',\r\n",
        "              metrics = ['accuracy'])\r\n",
        "\r\n",
        "model.fit(x_train_reshaped, y_train, epochs =10)"
      ],
      "execution_count": null,
      "outputs": [
        {
          "output_type": "stream",
          "text": [
            "Epoch 1/10\n",
            "1875/1875 [==============================] - 30s 16ms/step - loss: 0.4143 - accuracy: 0.8681\n",
            "Epoch 2/10\n",
            "1875/1875 [==============================] - 29s 16ms/step - loss: 0.0698 - accuracy: 0.9780\n",
            "Epoch 3/10\n",
            "1875/1875 [==============================] - 29s 16ms/step - loss: 0.0494 - accuracy: 0.9837\n",
            "Epoch 4/10\n",
            "1875/1875 [==============================] - 29s 16ms/step - loss: 0.0358 - accuracy: 0.9884\n",
            "Epoch 5/10\n",
            "1875/1875 [==============================] - 30s 16ms/step - loss: 0.0292 - accuracy: 0.9905\n",
            "Epoch 6/10\n",
            "1875/1875 [==============================] - 30s 16ms/step - loss: 0.0232 - accuracy: 0.9926\n",
            "Epoch 7/10\n",
            "1875/1875 [==============================] - 29s 16ms/step - loss: 0.0207 - accuracy: 0.9934\n",
            "Epoch 8/10\n",
            "1875/1875 [==============================] - 30s 16ms/step - loss: 0.0160 - accuracy: 0.9944\n",
            "Epoch 9/10\n",
            "1875/1875 [==============================] - 30s 16ms/step - loss: 0.0139 - accuracy: 0.9957\n",
            "Epoch 10/10\n",
            "1875/1875 [==============================] - 30s 16ms/step - loss: 0.0137 - accuracy: 0.9958\n"
          ],
          "name": "stdout"
        },
        {
          "output_type": "execute_result",
          "data": {
            "text/plain": [
              "<tensorflow.python.keras.callbacks.History at 0x7fce4b0345c0>"
            ]
          },
          "metadata": {
            "tags": []
          },
          "execution_count": 54
        }
      ]
    },
    {
      "cell_type": "markdown",
      "metadata": {
        "id": "xTY9I6NXMzQv"
      },
      "source": [
        "y_train은 target data, epochs는 60,000 data 학습을 몇 번 반복할 것인지"
      ]
    },
    {
      "cell_type": "markdown",
      "metadata": {
        "id": "fTFRnUmlNeEA"
      },
      "source": [
        "##성능 평가"
      ]
    },
    {
      "cell_type": "code",
      "metadata": {
        "colab": {
          "base_uri": "https://localhost:8080/"
        },
        "id": "dodpmjt6MvWT",
        "outputId": "a2a3c5fd-95b8-4de5-8cb7-b2bc52bc649f"
      },
      "source": [
        "test_loss, test_accuracy = model.evaluate(x_test_reshaped, y_test)\r\n",
        "\r\n",
        "print(\"test_loss: {}\".format(test_loss))\r\n",
        "print(\"test_accuracy : {}\".format(test_accuracy))"
      ],
      "execution_count": null,
      "outputs": [
        {
          "output_type": "stream",
          "text": [
            "313/313 [==============================] - 2s 6ms/step - loss: 0.0317 - accuracy: 0.9903\n",
            "test_loss: 0.03168483451008797\n",
            "test_accuracy : 0.9902999997138977\n"
          ],
          "name": "stdout"
        }
      ]
    },
    {
      "cell_type": "markdown",
      "metadata": {
        "id": "RBrkvqESOgeB"
      },
      "source": [
        "정확도가 트레이닝 셋에서 보다 낮음."
      ]
    },
    {
      "cell_type": "code",
      "metadata": {
        "colab": {
          "base_uri": "https://localhost:8080/"
        },
        "id": "htIbeIslOUTh",
        "outputId": "56796af7-2bed-493b-fd7d-bf2530d5193b"
      },
      "source": [
        "predicted_result = model.predict(x_test_reshaped)\r\n",
        "predicted_labels = np.argmax(predicted_result, axis =1)\r\n",
        "\r\n",
        "idx =0\r\n",
        "print(predicted_result[idx])\r\n",
        "print(\"모델이 추론한 가장 가능성 높은 숫자 :\", predicted_labels[idx])\r\n",
        "print(\"실제 라벨 : \", y_test[idx])"
      ],
      "execution_count": null,
      "outputs": [
        {
          "output_type": "stream",
          "text": [
            "[7.2306036e-11 8.6540476e-11 2.8829351e-07 2.9711944e-07 8.7396696e-12\n",
            " 7.6836038e-11 2.4937112e-15 9.9999928e-01 9.0538570e-08 1.9831381e-07]\n",
            "모델이 추론한 가장 가능성 높은 숫자 : 7\n",
            "실제 라벨 :  7\n"
          ],
          "name": "stdout"
        }
      ]
    },
    {
      "cell_type": "code",
      "metadata": {
        "colab": {
          "base_uri": "https://localhost:8080/",
          "height": 282
        },
        "id": "-xQIrOMWPgv3",
        "outputId": "7dafe9ab-9a04-4ecc-edb8-fcecf8e5a62d"
      },
      "source": [
        "plt.imshow(x_train[2])"
      ],
      "execution_count": null,
      "outputs": [
        {
          "output_type": "execute_result",
          "data": {
            "text/plain": [
              "<matplotlib.image.AxesImage at 0x7fce47667978>"
            ]
          },
          "metadata": {
            "tags": []
          },
          "execution_count": 75
        },
        {
          "output_type": "display_data",
          "data": {
            "image/png": "[encoded data removed]",
            "text/plain": [
              "<Figure size 432x288 with 1 Axes>"
            ]
          },
          "metadata": {
            "tags": [],
            "needs_background": "light"
          }
        }
      ]
    },
    {
      "cell_type": "code",
      "metadata": {
        "colab": {
          "base_uri": "https://localhost:8080/",
          "height": 282
        },
        "id": "MPiGUEjvPiSL",
        "outputId": "2afd7b94-fac4-44be-b3c5-77cb62ed701e"
      },
      "source": [
        "#흑백 출력\r\n",
        "plt.imshow(x_train[0], cmap=plt.cm.binary)"
      ],
      "execution_count": null,
      "outputs": [
        {
          "output_type": "execute_result",
          "data": {
            "text/plain": [
              "<matplotlib.image.AxesImage at 0x7fce47818978>"
            ]
          },
          "metadata": {
            "tags": []
          },
          "execution_count": 69
        },
        {
          "output_type": "display_data",
          "data": {
            "image/png": "[encoded data removed]",
            "text/plain": [
              "<Figure size 432x288 with 1 Axes>"
            ]
          },
          "metadata": {
            "tags": [],
            "needs_background": "light"
          }
        }
      ]
    },
    {
      "cell_type": "markdown",
      "metadata": {
        "id": "RjlaSqi6QT6t"
      },
      "source": [
        "##고성능 네트워크 설계"
      ]
    },
    {
      "cell_type": "markdown",
      "metadata": {
        "id": "GaD1LydIQXre"
      },
      "source": [
        "channel, hidden layer 수(=얼마나 비선형 함수를 정교하게 계산할 지), epoch 등을 변경함. but 필터나 에포크가 한도끝도 없이 크면, 시간이 오래 걸리거나 overfitting 발생할 수 있음."
      ]
    }
  ]
}