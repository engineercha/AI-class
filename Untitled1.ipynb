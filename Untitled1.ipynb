{
  "nbformat": 4,
  "nbformat_minor": 0,
  "metadata": {
    "colab": {
      "name": "Untitled1.ipynb",
      "provenance": [],
      "authorship_tag": "ABX9TyOR3p0h/oRs0lDsdo79oGSF",
      "include_colab_link": true
    },
    "kernelspec": {
      "name": "python3",
      "display_name": "Python 3"
    }
  },
  "cells": [
    {
      "cell_type": "markdown",
      "metadata": {
        "id": "view-in-github",
        "colab_type": "text"
      },
      "source": [
        "<a href=\"https://colab.research.google.com/github/engineercha/ai-class/blob/master/Untitled1.ipynb\" target=\"_parent\"><img src=\"https://colab.research.google.com/assets/colab-badge.svg\" alt=\"Open In Colab\"/></a>"
      ]
    },
    {
      "cell_type": "code",
      "metadata": {
        "id": "SRAVkLapCCnu"
      },
      "source": [
        "import numpy as np\r\n",
        "import matplotlib.pyplot as plt\r\n",
        "import random"
      ],
      "execution_count": 34,
      "outputs": []
    },
    {
      "cell_type": "code",
      "metadata": {
        "colab": {
          "base_uri": "https://localhost:8080/"
        },
        "id": "vfYNFs4FCNiQ",
        "outputId": "514a8df0-7be2-4e94-c363-1ddf1e9c6a37"
      },
      "source": [
        "a=np.array([random.randrange(1,11) for i in range(3)])\r\n",
        "a"
      ],
      "execution_count": 35,
      "outputs": [
        {
          "output_type": "execute_result",
          "data": {
            "text/plain": [
              "array([1, 4, 5])"
            ]
          },
          "metadata": {
            "tags": []
          },
          "execution_count": 35
        }
      ]
    },
    {
      "cell_type": "code",
      "metadata": {
        "colab": {
          "base_uri": "https://localhost:8080/"
        },
        "id": "_3zcCL3XCOvH",
        "outputId": "42bc4380-669b-4235-cd79-cebabe4ac946"
      },
      "source": [
        "b=np.array([random.randrange(1,11) for i in range(3)])\r\n",
        "b"
      ],
      "execution_count": 36,
      "outputs": [
        {
          "output_type": "execute_result",
          "data": {
            "text/plain": [
              "array([6, 6, 2])"
            ]
          },
          "metadata": {
            "tags": []
          },
          "execution_count": 36
        }
      ]
    },
    {
      "cell_type": "code",
      "metadata": {
        "colab": {
          "base_uri": "https://localhost:8080/"
        },
        "id": "oZ8bc0tUCQ07",
        "outputId": "fe66f907-774c-4dbf-9d54-456a4b33be3e"
      },
      "source": [
        "for i in range(-10,10):\r\n",
        "  A=a*i\r\n",
        "  print(a*i, A[0])"
      ],
      "execution_count": 37,
      "outputs": [
        {
          "output_type": "stream",
          "text": [
            "[-10 -40 -50] -10\n",
            "[ -9 -36 -45] -9\n",
            "[ -8 -32 -40] -8\n",
            "[ -7 -28 -35] -7\n",
            "[ -6 -24 -30] -6\n",
            "[ -5 -20 -25] -5\n",
            "[ -4 -16 -20] -4\n",
            "[ -3 -12 -15] -3\n",
            "[ -2  -8 -10] -2\n",
            "[-1 -4 -5] -1\n",
            "[0 0 0] 0\n",
            "[1 4 5] 1\n",
            "[ 2  8 10] 2\n",
            "[ 3 12 15] 3\n",
            "[ 4 16 20] 4\n",
            "[ 5 20 25] 5\n",
            "[ 6 24 30] 6\n",
            "[ 7 28 35] 7\n",
            "[ 8 32 40] 8\n",
            "[ 9 36 45] 9\n"
          ],
          "name": "stdout"
        }
      ]
    },
    {
      "cell_type": "code",
      "metadata": {
        "colab": {
          "base_uri": "https://localhost:8080/"
        },
        "id": "GZ7BtJROE_Oa",
        "outputId": "63769867-1538-46b7-c6d0-455c10f280d9"
      },
      "source": [
        "for i in range(-10,10):\r\n",
        "  A=a*i\r\n",
        "  if A[0]==b[0] or A[1]==b[1]:\r\n",
        "    sol=A-b\r\n",
        "  elif A[0]==-b[0] or A[1]==-b[1]:\r\n",
        "    sol=A+b\r\n",
        "print(sol)"
      ],
      "execution_count": 38,
      "outputs": [
        {
          "output_type": "stream",
          "text": [
            "[ 0 18 28]\n"
          ],
          "name": "stdout"
        }
      ]
    },
    {
      "cell_type": "code",
      "metadata": {
        "colab": {
          "base_uri": "https://localhost:8080/"
        },
        "id": "wItgFsTfFk4P",
        "outputId": "783752f4-7c62-436e-cf07-f7a8b889182b"
      },
      "source": [
        "print(f'{a[0]}x + {a[1]}y = {a[2]}')\r\n",
        "print(f'{b[0]}x + {b[1]}y = {b[2]}')"
      ],
      "execution_count": 39,
      "outputs": [
        {
          "output_type": "stream",
          "text": [
            "1x + 4y = 5\n",
            "6x + 6y = 2\n"
          ],
          "name": "stdout"
        }
      ]
    }
  ]
}