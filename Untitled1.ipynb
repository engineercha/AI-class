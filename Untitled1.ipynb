{
  "nbformat": 4,
  "nbformat_minor": 0,
  "metadata": {
    "colab": {
      "name": "Untitled1.ipynb",
      "provenance": [],
      "collapsed_sections": [],
      "authorship_tag": "ABX9TyNXRt+3t/OkXGjiYgfqH/Ay",
      "include_colab_link": true
    },
    "kernelspec": {
      "name": "python3",
      "display_name": "Python 3"
    }
  },
  "cells": [
    {
      "cell_type": "markdown",
      "metadata": {
        "id": "view-in-github",
        "colab_type": "text"
      },
      "source": [
        "<a href=\"https://colab.research.google.com/github/engineercha/ai-class/blob/master/Untitled1.ipynb\" target=\"_parent\"><img src=\"https://colab.research.google.com/assets/colab-badge.svg\" alt=\"Open In Colab\"/></a>"
      ]
    },
    {
      "cell_type": "code",
      "metadata": {
        "id": "723a5-jsBH8v"
      },
      "source": [
        "import numpy as np\r\n",
        "import pandas as pd"
      ],
      "execution_count": null,
      "outputs": []
    },
    {
      "cell_type": "markdown",
      "metadata": {
        "id": "B7mNhwbLCTaJ"
      },
      "source": [
        "##Data Frame"
      ]
    },
    {
      "cell_type": "markdown",
      "metadata": {
        "id": "wOQRPicFCEZj"
      },
      "source": [
        "정의 이전에 dataframe에 들어갈 데이터를 정의해야 하는데, 파이썬의 dictionary 또는 numpy의 array로 정의할 수 있다."
      ]
    },
    {
      "cell_type": "code",
      "metadata": {
        "colab": {
          "base_uri": "https://localhost:8080/",
          "height": 195
        },
        "id": "hPnRAMX4B6oN",
        "outputId": "9bbc44ce-5ac4-4658-c5eb-700a8260d39e"
      },
      "source": [
        "data = {'name': ['Beomwoo', 'Beomwoo', 'Beomwoo', 'Kim', 'Park'],\r\n",
        "        'year': [2013, 2014, 2015, 2016, 2015],\r\n",
        "        'points': [1.5, 1.7, 3.6, 2.4, 2.9]}\r\n",
        "df = pd.DataFrame(data)\r\n",
        "df"
      ],
      "execution_count": null,
      "outputs": [
        {
          "output_type": "execute_result",
          "data": {
            "text/html": [
              "<div>\n",
              "<style scoped>\n",
              "    .dataframe tbody tr th:only-of-type {\n",
              "        vertical-align: middle;\n",
              "    }\n",
              "\n",
              "    .dataframe tbody tr th {\n",
              "        vertical-align: top;\n",
              "    }\n",
              "\n",
              "    .dataframe thead th {\n",
              "        text-align: right;\n",
              "    }\n",
              "</style>\n",
              "<table border=\"1\" class=\"dataframe\">\n",
              "  <thead>\n",
              "    <tr style=\"text-align: right;\">\n",
              "      <th></th>\n",
              "      <th>name</th>\n",
              "      <th>year</th>\n",
              "      <th>points</th>\n",
              "    </tr>\n",
              "  </thead>\n",
              "  <tbody>\n",
              "    <tr>\n",
              "      <th>0</th>\n",
              "      <td>Beomwoo</td>\n",
              "      <td>2013</td>\n",
              "      <td>1.5</td>\n",
              "    </tr>\n",
              "    <tr>\n",
              "      <th>1</th>\n",
              "      <td>Beomwoo</td>\n",
              "      <td>2014</td>\n",
              "      <td>1.7</td>\n",
              "    </tr>\n",
              "    <tr>\n",
              "      <th>2</th>\n",
              "      <td>Beomwoo</td>\n",
              "      <td>2015</td>\n",
              "      <td>3.6</td>\n",
              "    </tr>\n",
              "    <tr>\n",
              "      <th>3</th>\n",
              "      <td>Kim</td>\n",
              "      <td>2016</td>\n",
              "      <td>2.4</td>\n",
              "    </tr>\n",
              "    <tr>\n",
              "      <th>4</th>\n",
              "      <td>Park</td>\n",
              "      <td>2015</td>\n",
              "      <td>2.9</td>\n",
              "    </tr>\n",
              "  </tbody>\n",
              "</table>\n",
              "</div>"
            ],
            "text/plain": [
              "      name  year  points\n",
              "0  Beomwoo  2013     1.5\n",
              "1  Beomwoo  2014     1.7\n",
              "2  Beomwoo  2015     3.6\n",
              "3      Kim  2016     2.4\n",
              "4     Park  2015     2.9"
            ]
          },
          "metadata": {
            "tags": []
          },
          "execution_count": 39
        }
      ]
    },
    {
      "cell_type": "code",
      "metadata": {
        "colab": {
          "base_uri": "https://localhost:8080/"
        },
        "id": "qSF1WsTiCpMv",
        "outputId": "0c9d17d3-dba9-4125-8d3b-cec105647b6f"
      },
      "source": [
        "# 행 방향의 index\r\n",
        "df.index"
      ],
      "execution_count": null,
      "outputs": [
        {
          "output_type": "execute_result",
          "data": {
            "text/plain": [
              "RangeIndex(start=0, stop=5, step=1)"
            ]
          },
          "metadata": {
            "tags": []
          },
          "execution_count": 40
        }
      ]
    },
    {
      "cell_type": "code",
      "metadata": {
        "colab": {
          "base_uri": "https://localhost:8080/"
        },
        "id": "1kR5UMRiDP0C",
        "outputId": "4813cf70-0a3e-4da9-b233-249f629569b4"
      },
      "source": [
        "# 열 방향의 index\r\n",
        "df.columns"
      ],
      "execution_count": null,
      "outputs": [
        {
          "output_type": "execute_result",
          "data": {
            "text/plain": [
              "Index(['name', 'year', 'points'], dtype='object')"
            ]
          },
          "metadata": {
            "tags": []
          },
          "execution_count": 41
        }
      ]
    },
    {
      "cell_type": "code",
      "metadata": {
        "colab": {
          "base_uri": "https://localhost:8080/"
        },
        "id": "tJigPfbMDVDa",
        "outputId": "3753f421-dabd-4e86-9c76-32c63175e986"
      },
      "source": [
        "# 값 얻기\r\n",
        "df.values"
      ],
      "execution_count": null,
      "outputs": [
        {
          "output_type": "execute_result",
          "data": {
            "text/plain": [
              "array([['Beomwoo', 2013, 1.5],\n",
              "       ['Beomwoo', 2014, 1.7],\n",
              "       ['Beomwoo', 2015, 3.6],\n",
              "       ['Kim', 2016, 2.4],\n",
              "       ['Park', 2015, 2.9]], dtype=object)"
            ]
          },
          "metadata": {
            "tags": []
          },
          "execution_count": 42
        }
      ]
    },
    {
      "cell_type": "code",
      "metadata": {
        "colab": {
          "base_uri": "https://localhost:8080/",
          "height": 225
        },
        "id": "47ZOPA4UELeM",
        "outputId": "60c5a9f9-1962-49b9-e902-55ca1890b2a2"
      },
      "source": [
        "# 각 인덱스에 이름 설정하기\r\n",
        "df.index.name='Num'\r\n",
        "df.columns.name='Info'\r\n",
        "df"
      ],
      "execution_count": null,
      "outputs": [
        {
          "output_type": "execute_result",
          "data": {
            "text/html": [
              "<div>\n",
              "<style scoped>\n",
              "    .dataframe tbody tr th:only-of-type {\n",
              "        vertical-align: middle;\n",
              "    }\n",
              "\n",
              "    .dataframe tbody tr th {\n",
              "        vertical-align: top;\n",
              "    }\n",
              "\n",
              "    .dataframe thead th {\n",
              "        text-align: right;\n",
              "    }\n",
              "</style>\n",
              "<table border=\"1\" class=\"dataframe\">\n",
              "  <thead>\n",
              "    <tr style=\"text-align: right;\">\n",
              "      <th>Info</th>\n",
              "      <th>name</th>\n",
              "      <th>year</th>\n",
              "      <th>points</th>\n",
              "    </tr>\n",
              "    <tr>\n",
              "      <th>Num</th>\n",
              "      <th></th>\n",
              "      <th></th>\n",
              "      <th></th>\n",
              "    </tr>\n",
              "  </thead>\n",
              "  <tbody>\n",
              "    <tr>\n",
              "      <th>0</th>\n",
              "      <td>Beomwoo</td>\n",
              "      <td>2013</td>\n",
              "      <td>1.5</td>\n",
              "    </tr>\n",
              "    <tr>\n",
              "      <th>1</th>\n",
              "      <td>Beomwoo</td>\n",
              "      <td>2014</td>\n",
              "      <td>1.7</td>\n",
              "    </tr>\n",
              "    <tr>\n",
              "      <th>2</th>\n",
              "      <td>Beomwoo</td>\n",
              "      <td>2015</td>\n",
              "      <td>3.6</td>\n",
              "    </tr>\n",
              "    <tr>\n",
              "      <th>3</th>\n",
              "      <td>Kim</td>\n",
              "      <td>2016</td>\n",
              "      <td>2.4</td>\n",
              "    </tr>\n",
              "    <tr>\n",
              "      <th>4</th>\n",
              "      <td>Park</td>\n",
              "      <td>2015</td>\n",
              "      <td>2.9</td>\n",
              "    </tr>\n",
              "  </tbody>\n",
              "</table>\n",
              "</div>"
            ],
            "text/plain": [
              "Info     name  year  points\n",
              "Num                        \n",
              "0     Beomwoo  2013     1.5\n",
              "1     Beomwoo  2014     1.7\n",
              "2     Beomwoo  2015     3.6\n",
              "3         Kim  2016     2.4\n",
              "4        Park  2015     2.9"
            ]
          },
          "metadata": {
            "tags": []
          },
          "execution_count": 43
        }
      ]
    },
    {
      "cell_type": "markdown",
      "metadata": {
        "id": "tZwfQklWEh1S"
      },
      "source": [
        "##NaN"
      ]
    },
    {
      "cell_type": "markdown",
      "metadata": {
        "id": "WuEvtCCEEmNU"
      },
      "source": [
        "null과 같은 개념"
      ]
    },
    {
      "cell_type": "markdown",
      "metadata": {
        "id": "vqGGs-VNEz4Q"
      },
      "source": [
        "##DataFrame Indexing"
      ]
    },
    {
      "cell_type": "code",
      "metadata": {
        "colab": {
          "base_uri": "https://localhost:8080/",
          "height": 195
        },
        "id": "RJx7o52ZE2HH",
        "outputId": "68271525-10cb-4914-92e0-94392f8676a3"
      },
      "source": [
        "data = {\"names\": [\"Kilho\", \"Kilho\", \"Kilho\", \"Charles\", \"Charles\"],\r\n",
        "        \"year\": [2014, 2015, 2016, 2015, 2016],\r\n",
        "        \"points\": [1.5, 1.7, 3.6, 2.4, 2.9]}\r\n",
        "df = pd.DataFrame(data, columns=[\"year\", \"names\", \"points\", \"penalty\"],\r\n",
        "                        index=[\"one\", \"two\", \"three\", \"four\", \"five\"])\r\n",
        "df"
      ],
      "execution_count": null,
      "outputs": [
        {
          "output_type": "execute_result",
          "data": {
            "text/html": [
              "<div>\n",
              "<style scoped>\n",
              "    .dataframe tbody tr th:only-of-type {\n",
              "        vertical-align: middle;\n",
              "    }\n",
              "\n",
              "    .dataframe tbody tr th {\n",
              "        vertical-align: top;\n",
              "    }\n",
              "\n",
              "    .dataframe thead th {\n",
              "        text-align: right;\n",
              "    }\n",
              "</style>\n",
              "<table border=\"1\" class=\"dataframe\">\n",
              "  <thead>\n",
              "    <tr style=\"text-align: right;\">\n",
              "      <th></th>\n",
              "      <th>year</th>\n",
              "      <th>names</th>\n",
              "      <th>points</th>\n",
              "      <th>penalty</th>\n",
              "    </tr>\n",
              "  </thead>\n",
              "  <tbody>\n",
              "    <tr>\n",
              "      <th>one</th>\n",
              "      <td>2014</td>\n",
              "      <td>Kilho</td>\n",
              "      <td>1.5</td>\n",
              "      <td>NaN</td>\n",
              "    </tr>\n",
              "    <tr>\n",
              "      <th>two</th>\n",
              "      <td>2015</td>\n",
              "      <td>Kilho</td>\n",
              "      <td>1.7</td>\n",
              "      <td>NaN</td>\n",
              "    </tr>\n",
              "    <tr>\n",
              "      <th>three</th>\n",
              "      <td>2016</td>\n",
              "      <td>Kilho</td>\n",
              "      <td>3.6</td>\n",
              "      <td>NaN</td>\n",
              "    </tr>\n",
              "    <tr>\n",
              "      <th>four</th>\n",
              "      <td>2015</td>\n",
              "      <td>Charles</td>\n",
              "      <td>2.4</td>\n",
              "      <td>NaN</td>\n",
              "    </tr>\n",
              "    <tr>\n",
              "      <th>five</th>\n",
              "      <td>2016</td>\n",
              "      <td>Charles</td>\n",
              "      <td>2.9</td>\n",
              "      <td>NaN</td>\n",
              "    </tr>\n",
              "  </tbody>\n",
              "</table>\n",
              "</div>"
            ],
            "text/plain": [
              "       year    names  points penalty\n",
              "one    2014    Kilho     1.5     NaN\n",
              "two    2015    Kilho     1.7     NaN\n",
              "three  2016    Kilho     3.6     NaN\n",
              "four   2015  Charles     2.4     NaN\n",
              "five   2016  Charles     2.9     NaN"
            ]
          },
          "metadata": {
            "tags": []
          },
          "execution_count": 44
        }
      ]
    },
    {
      "cell_type": "code",
      "metadata": {
        "colab": {
          "base_uri": "https://localhost:8080/"
        },
        "id": "QaYmWi3KFifC",
        "outputId": "7882f4a8-a381-4918-fdd3-547a6968ec03"
      },
      "source": [
        "# DataFrame에서 열을 선택하고 조작하기\r\n",
        "df['year']"
      ],
      "execution_count": null,
      "outputs": [
        {
          "output_type": "execute_result",
          "data": {
            "text/plain": [
              "one      2014\n",
              "two      2015\n",
              "three    2016\n",
              "four     2015\n",
              "five     2016\n",
              "Name: year, dtype: int64"
            ]
          },
          "metadata": {
            "tags": []
          },
          "execution_count": 45
        }
      ]
    },
    {
      "cell_type": "code",
      "metadata": {
        "colab": {
          "base_uri": "https://localhost:8080/",
          "height": 195
        },
        "id": "3eRCTzyAF2pV",
        "outputId": "9bdf1fa7-3837-4c3b-bd58-abc6ae89dedc"
      },
      "source": [
        "# 특정 열을 선택하고, 원하는 값을 대입하기\r\n",
        "df['penalty'] = 0.5\r\n",
        "df"
      ],
      "execution_count": null,
      "outputs": [
        {
          "output_type": "execute_result",
          "data": {
            "text/html": [
              "<div>\n",
              "<style scoped>\n",
              "    .dataframe tbody tr th:only-of-type {\n",
              "        vertical-align: middle;\n",
              "    }\n",
              "\n",
              "    .dataframe tbody tr th {\n",
              "        vertical-align: top;\n",
              "    }\n",
              "\n",
              "    .dataframe thead th {\n",
              "        text-align: right;\n",
              "    }\n",
              "</style>\n",
              "<table border=\"1\" class=\"dataframe\">\n",
              "  <thead>\n",
              "    <tr style=\"text-align: right;\">\n",
              "      <th></th>\n",
              "      <th>year</th>\n",
              "      <th>names</th>\n",
              "      <th>points</th>\n",
              "      <th>penalty</th>\n",
              "    </tr>\n",
              "  </thead>\n",
              "  <tbody>\n",
              "    <tr>\n",
              "      <th>one</th>\n",
              "      <td>2014</td>\n",
              "      <td>Kilho</td>\n",
              "      <td>1.5</td>\n",
              "      <td>0.5</td>\n",
              "    </tr>\n",
              "    <tr>\n",
              "      <th>two</th>\n",
              "      <td>2015</td>\n",
              "      <td>Kilho</td>\n",
              "      <td>1.7</td>\n",
              "      <td>0.5</td>\n",
              "    </tr>\n",
              "    <tr>\n",
              "      <th>three</th>\n",
              "      <td>2016</td>\n",
              "      <td>Kilho</td>\n",
              "      <td>3.6</td>\n",
              "      <td>0.5</td>\n",
              "    </tr>\n",
              "    <tr>\n",
              "      <th>four</th>\n",
              "      <td>2015</td>\n",
              "      <td>Charles</td>\n",
              "      <td>2.4</td>\n",
              "      <td>0.5</td>\n",
              "    </tr>\n",
              "    <tr>\n",
              "      <th>five</th>\n",
              "      <td>2016</td>\n",
              "      <td>Charles</td>\n",
              "      <td>2.9</td>\n",
              "      <td>0.5</td>\n",
              "    </tr>\n",
              "  </tbody>\n",
              "</table>\n",
              "</div>"
            ],
            "text/plain": [
              "       year    names  points  penalty\n",
              "one    2014    Kilho     1.5      0.5\n",
              "two    2015    Kilho     1.7      0.5\n",
              "three  2016    Kilho     3.6      0.5\n",
              "four   2015  Charles     2.4      0.5\n",
              "five   2016  Charles     2.9      0.5"
            ]
          },
          "metadata": {
            "tags": []
          },
          "execution_count": 46
        }
      ]
    },
    {
      "cell_type": "code",
      "metadata": {
        "colab": {
          "base_uri": "https://localhost:8080/",
          "height": 195
        },
        "id": "ULghkd3YGCfI",
        "outputId": "5b669d1f-ebdb-4e99-975b-9fb5325f1234"
      },
      "source": [
        "# 또는\r\n",
        "df['penalty'] = [0.1, 0.2, 0.3, 0.4, 0.5] # 파이썬의 List나 numpy의 array\r\n",
        "df"
      ],
      "execution_count": null,
      "outputs": [
        {
          "output_type": "execute_result",
          "data": {
            "text/html": [
              "<div>\n",
              "<style scoped>\n",
              "    .dataframe tbody tr th:only-of-type {\n",
              "        vertical-align: middle;\n",
              "    }\n",
              "\n",
              "    .dataframe tbody tr th {\n",
              "        vertical-align: top;\n",
              "    }\n",
              "\n",
              "    .dataframe thead th {\n",
              "        text-align: right;\n",
              "    }\n",
              "</style>\n",
              "<table border=\"1\" class=\"dataframe\">\n",
              "  <thead>\n",
              "    <tr style=\"text-align: right;\">\n",
              "      <th></th>\n",
              "      <th>year</th>\n",
              "      <th>names</th>\n",
              "      <th>points</th>\n",
              "      <th>penalty</th>\n",
              "    </tr>\n",
              "  </thead>\n",
              "  <tbody>\n",
              "    <tr>\n",
              "      <th>one</th>\n",
              "      <td>2014</td>\n",
              "      <td>Kilho</td>\n",
              "      <td>1.5</td>\n",
              "      <td>0.1</td>\n",
              "    </tr>\n",
              "    <tr>\n",
              "      <th>two</th>\n",
              "      <td>2015</td>\n",
              "      <td>Kilho</td>\n",
              "      <td>1.7</td>\n",
              "      <td>0.2</td>\n",
              "    </tr>\n",
              "    <tr>\n",
              "      <th>three</th>\n",
              "      <td>2016</td>\n",
              "      <td>Kilho</td>\n",
              "      <td>3.6</td>\n",
              "      <td>0.3</td>\n",
              "    </tr>\n",
              "    <tr>\n",
              "      <th>four</th>\n",
              "      <td>2015</td>\n",
              "      <td>Charles</td>\n",
              "      <td>2.4</td>\n",
              "      <td>0.4</td>\n",
              "    </tr>\n",
              "    <tr>\n",
              "      <th>five</th>\n",
              "      <td>2016</td>\n",
              "      <td>Charles</td>\n",
              "      <td>2.9</td>\n",
              "      <td>0.5</td>\n",
              "    </tr>\n",
              "  </tbody>\n",
              "</table>\n",
              "</div>"
            ],
            "text/plain": [
              "       year    names  points  penalty\n",
              "one    2014    Kilho     1.5      0.1\n",
              "two    2015    Kilho     1.7      0.2\n",
              "three  2016    Kilho     3.6      0.3\n",
              "four   2015  Charles     2.4      0.4\n",
              "five   2016  Charles     2.9      0.5"
            ]
          },
          "metadata": {
            "tags": []
          },
          "execution_count": 47
        }
      ]
    },
    {
      "cell_type": "code",
      "metadata": {
        "colab": {
          "base_uri": "https://localhost:8080/",
          "height": 195
        },
        "id": "GpMO_lVAGZ9r",
        "outputId": "f07e00ff-8d32-4470-a6cc-b7579b63b138"
      },
      "source": [
        "# 열 추가하기\r\n",
        "df['zeros'] = np.arange(5) # arange(5)는 0에서 5에서 멈추는, 0~4에 해당하는 5개의 데이터를 의미\r\n",
        "df"
      ],
      "execution_count": null,
      "outputs": [
        {
          "output_type": "execute_result",
          "data": {
            "text/html": [
              "<div>\n",
              "<style scoped>\n",
              "    .dataframe tbody tr th:only-of-type {\n",
              "        vertical-align: middle;\n",
              "    }\n",
              "\n",
              "    .dataframe tbody tr th {\n",
              "        vertical-align: top;\n",
              "    }\n",
              "\n",
              "    .dataframe thead th {\n",
              "        text-align: right;\n",
              "    }\n",
              "</style>\n",
              "<table border=\"1\" class=\"dataframe\">\n",
              "  <thead>\n",
              "    <tr style=\"text-align: right;\">\n",
              "      <th></th>\n",
              "      <th>year</th>\n",
              "      <th>names</th>\n",
              "      <th>points</th>\n",
              "      <th>penalty</th>\n",
              "      <th>zeros</th>\n",
              "    </tr>\n",
              "  </thead>\n",
              "  <tbody>\n",
              "    <tr>\n",
              "      <th>one</th>\n",
              "      <td>2014</td>\n",
              "      <td>Kilho</td>\n",
              "      <td>1.5</td>\n",
              "      <td>0.1</td>\n",
              "      <td>0</td>\n",
              "    </tr>\n",
              "    <tr>\n",
              "      <th>two</th>\n",
              "      <td>2015</td>\n",
              "      <td>Kilho</td>\n",
              "      <td>1.7</td>\n",
              "      <td>0.2</td>\n",
              "      <td>1</td>\n",
              "    </tr>\n",
              "    <tr>\n",
              "      <th>three</th>\n",
              "      <td>2016</td>\n",
              "      <td>Kilho</td>\n",
              "      <td>3.6</td>\n",
              "      <td>0.3</td>\n",
              "      <td>2</td>\n",
              "    </tr>\n",
              "    <tr>\n",
              "      <th>four</th>\n",
              "      <td>2015</td>\n",
              "      <td>Charles</td>\n",
              "      <td>2.4</td>\n",
              "      <td>0.4</td>\n",
              "      <td>3</td>\n",
              "    </tr>\n",
              "    <tr>\n",
              "      <th>five</th>\n",
              "      <td>2016</td>\n",
              "      <td>Charles</td>\n",
              "      <td>2.9</td>\n",
              "      <td>0.5</td>\n",
              "      <td>4</td>\n",
              "    </tr>\n",
              "  </tbody>\n",
              "</table>\n",
              "</div>"
            ],
            "text/plain": [
              "       year    names  points  penalty  zeros\n",
              "one    2014    Kilho     1.5      0.1      0\n",
              "two    2015    Kilho     1.7      0.2      1\n",
              "three  2016    Kilho     3.6      0.3      2\n",
              "four   2015  Charles     2.4      0.4      3\n",
              "five   2016  Charles     2.9      0.5      4"
            ]
          },
          "metadata": {
            "tags": []
          },
          "execution_count": 48
        }
      ]
    },
    {
      "cell_type": "markdown",
      "metadata": {
        "id": "PD9jTwUPH10Y"
      },
      "source": [
        "Series로 데이터를 DataFrame에 넣을 때는 \"넣으려는 data의 index에 맞춰서\" 알아서 들어간다."
      ]
    },
    {
      "cell_type": "code",
      "metadata": {
        "colab": {
          "base_uri": "https://localhost:8080/",
          "height": 195
        },
        "id": "pdSG-V5QH0Zm",
        "outputId": "5549a3c9-a364-4938-fcbf-847ddaa3dbdc"
      },
      "source": [
        "df['net_points'] = df['points'] - df['penalty']\r\n",
        "df['high_points'] = df['points'] > 2.0\r\n",
        "df"
      ],
      "execution_count": null,
      "outputs": [
        {
          "output_type": "execute_result",
          "data": {
            "text/html": [
              "<div>\n",
              "<style scoped>\n",
              "    .dataframe tbody tr th:only-of-type {\n",
              "        vertical-align: middle;\n",
              "    }\n",
              "\n",
              "    .dataframe tbody tr th {\n",
              "        vertical-align: top;\n",
              "    }\n",
              "\n",
              "    .dataframe thead th {\n",
              "        text-align: right;\n",
              "    }\n",
              "</style>\n",
              "<table border=\"1\" class=\"dataframe\">\n",
              "  <thead>\n",
              "    <tr style=\"text-align: right;\">\n",
              "      <th></th>\n",
              "      <th>year</th>\n",
              "      <th>names</th>\n",
              "      <th>points</th>\n",
              "      <th>penalty</th>\n",
              "      <th>zeros</th>\n",
              "      <th>net_points</th>\n",
              "      <th>high_points</th>\n",
              "    </tr>\n",
              "  </thead>\n",
              "  <tbody>\n",
              "    <tr>\n",
              "      <th>one</th>\n",
              "      <td>2014</td>\n",
              "      <td>Kilho</td>\n",
              "      <td>1.5</td>\n",
              "      <td>0.1</td>\n",
              "      <td>0</td>\n",
              "      <td>1.4</td>\n",
              "      <td>False</td>\n",
              "    </tr>\n",
              "    <tr>\n",
              "      <th>two</th>\n",
              "      <td>2015</td>\n",
              "      <td>Kilho</td>\n",
              "      <td>1.7</td>\n",
              "      <td>0.2</td>\n",
              "      <td>1</td>\n",
              "      <td>1.5</td>\n",
              "      <td>False</td>\n",
              "    </tr>\n",
              "    <tr>\n",
              "      <th>three</th>\n",
              "      <td>2016</td>\n",
              "      <td>Kilho</td>\n",
              "      <td>3.6</td>\n",
              "      <td>0.3</td>\n",
              "      <td>2</td>\n",
              "      <td>3.3</td>\n",
              "      <td>True</td>\n",
              "    </tr>\n",
              "    <tr>\n",
              "      <th>four</th>\n",
              "      <td>2015</td>\n",
              "      <td>Charles</td>\n",
              "      <td>2.4</td>\n",
              "      <td>0.4</td>\n",
              "      <td>3</td>\n",
              "      <td>2.0</td>\n",
              "      <td>True</td>\n",
              "    </tr>\n",
              "    <tr>\n",
              "      <th>five</th>\n",
              "      <td>2016</td>\n",
              "      <td>Charles</td>\n",
              "      <td>2.9</td>\n",
              "      <td>0.5</td>\n",
              "      <td>4</td>\n",
              "      <td>2.4</td>\n",
              "      <td>True</td>\n",
              "    </tr>\n",
              "  </tbody>\n",
              "</table>\n",
              "</div>"
            ],
            "text/plain": [
              "       year    names  points  penalty  zeros  net_points  high_points\n",
              "one    2014    Kilho     1.5      0.1      0         1.4        False\n",
              "two    2015    Kilho     1.7      0.2      1         1.5        False\n",
              "three  2016    Kilho     3.6      0.3      2         3.3         True\n",
              "four   2015  Charles     2.4      0.4      3         2.0         True\n",
              "five   2016  Charles     2.9      0.5      4         2.4         True"
            ]
          },
          "metadata": {
            "tags": []
          },
          "execution_count": 54
        }
      ]
    },
    {
      "cell_type": "code",
      "metadata": {
        "colab": {
          "base_uri": "https://localhost:8080/",
          "height": 195
        },
        "id": "lp5c28wRIVjW",
        "outputId": "7ee0a93b-e6b0-4a9a-dc26-aca4c911d05e"
      },
      "source": [
        "# 열 삭제하기\r\n",
        "del df['zeros']\r\n",
        "df"
      ],
      "execution_count": null,
      "outputs": [
        {
          "output_type": "execute_result",
          "data": {
            "text/html": [
              "<div>\n",
              "<style scoped>\n",
              "    .dataframe tbody tr th:only-of-type {\n",
              "        vertical-align: middle;\n",
              "    }\n",
              "\n",
              "    .dataframe tbody tr th {\n",
              "        vertical-align: top;\n",
              "    }\n",
              "\n",
              "    .dataframe thead th {\n",
              "        text-align: right;\n",
              "    }\n",
              "</style>\n",
              "<table border=\"1\" class=\"dataframe\">\n",
              "  <thead>\n",
              "    <tr style=\"text-align: right;\">\n",
              "      <th></th>\n",
              "      <th>year</th>\n",
              "      <th>names</th>\n",
              "      <th>points</th>\n",
              "      <th>penalty</th>\n",
              "    </tr>\n",
              "  </thead>\n",
              "  <tbody>\n",
              "    <tr>\n",
              "      <th>one</th>\n",
              "      <td>2014</td>\n",
              "      <td>Kilho</td>\n",
              "      <td>1.5</td>\n",
              "      <td>0.1</td>\n",
              "    </tr>\n",
              "    <tr>\n",
              "      <th>two</th>\n",
              "      <td>2015</td>\n",
              "      <td>Kilho</td>\n",
              "      <td>1.7</td>\n",
              "      <td>0.2</td>\n",
              "    </tr>\n",
              "    <tr>\n",
              "      <th>three</th>\n",
              "      <td>2016</td>\n",
              "      <td>Kilho</td>\n",
              "      <td>3.6</td>\n",
              "      <td>0.3</td>\n",
              "    </tr>\n",
              "    <tr>\n",
              "      <th>four</th>\n",
              "      <td>2015</td>\n",
              "      <td>Charles</td>\n",
              "      <td>2.4</td>\n",
              "      <td>0.4</td>\n",
              "    </tr>\n",
              "    <tr>\n",
              "      <th>five</th>\n",
              "      <td>2016</td>\n",
              "      <td>Charles</td>\n",
              "      <td>2.9</td>\n",
              "      <td>0.5</td>\n",
              "    </tr>\n",
              "  </tbody>\n",
              "</table>\n",
              "</div>"
            ],
            "text/plain": [
              "       year    names  points  penalty\n",
              "one    2014    Kilho     1.5      0.1\n",
              "two    2015    Kilho     1.7      0.2\n",
              "three  2016    Kilho     3.6      0.3\n",
              "four   2015  Charles     2.4      0.4\n",
              "five   2016  Charles     2.9      0.5"
            ]
          },
          "metadata": {
            "tags": []
          },
          "execution_count": 64
        }
      ]
    }
  ]
}