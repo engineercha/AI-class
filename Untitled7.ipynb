{
  "nbformat": 4,
  "nbformat_minor": 0,
  "metadata": {
    "colab": {
      "name": "Untitled7.ipynb",
      "provenance": []
    },
    "kernelspec": {
      "name": "python3",
      "display_name": "Python 3"
    }
  },
  "cells": [
    {
      "cell_type": "markdown",
      "metadata": {
        "id": "cp_dnRMnQkll"
      },
      "source": [
        "#Numpy"
      ]
    },
    {
      "cell_type": "markdown",
      "metadata": {
        "id": "tC3dLEE6QprW"
      },
      "source": [
        "C언어로 구현된 파이썬 라이브러리. 벡터 및 행렬 연산에 편리하고, 데이터 분석에 사용되는 pandas와 matplotlib의 기반임.\r\n",
        "\r\n",
        "행렬 array를 단위로 데이터 관리함"
      ]
    },
    {
      "cell_type": "code",
      "metadata": {
        "id": "jBm7-0UbQOrl"
      },
      "source": [
        "import numpy as np"
      ],
      "execution_count": null,
      "outputs": []
    },
    {
      "cell_type": "code",
      "metadata": {
        "colab": {
          "base_uri": "https://localhost:8080/"
        },
        "id": "1Db1em9tRQ-N",
        "outputId": "768840b5-cdb7-411d-b518-8348847fe339"
      },
      "source": [
        "data1 = [1,2,3,4,5]\r\n",
        "data1"
      ],
      "execution_count": null,
      "outputs": [
        {
          "output_type": "execute_result",
          "data": {
            "text/plain": [
              "[1, 2, 3, 4, 5]"
            ]
          },
          "metadata": {
            "tags": []
          },
          "execution_count": 9
        }
      ]
    },
    {
      "cell_type": "code",
      "metadata": {
        "colab": {
          "base_uri": "https://localhost:8080/"
        },
        "id": "HqSf2_NQRvTd",
        "outputId": "8da0aac3-b24b-4f4c-b5ca-e6577b198943"
      },
      "source": [
        "data2 = [1, 2, 3.5, 5, 6.5]\r\n",
        "data2"
      ],
      "execution_count": null,
      "outputs": [
        {
          "output_type": "execute_result",
          "data": {
            "text/plain": [
              "[1, 2, 3.5, 5, 6.5]"
            ]
          },
          "metadata": {
            "tags": []
          },
          "execution_count": 10
        }
      ]
    },
    {
      "cell_type": "code",
      "metadata": {
        "id": "_d-eFehHR1x2"
      },
      "source": [
        "# array 정의\r\n",
        "arr1 = np.array(data1)"
      ],
      "execution_count": null,
      "outputs": []
    },
    {
      "cell_type": "code",
      "metadata": {
        "id": "xgEQEomiSX4x"
      },
      "source": [
        "arr2 = np.array([1,2,3,4,5])\r\n",
        "arr2"
      ],
      "execution_count": null,
      "outputs": []
    },
    {
      "cell_type": "code",
      "metadata": {
        "colab": {
          "base_uri": "https://localhost:8080/"
        },
        "id": "T88CbUJaUCR5",
        "outputId": "e9b9de04-6f68-4df8-e200-c570ad556d9c"
      },
      "source": [
        "arr3 = np.array(data2)\r\n",
        "arr3"
      ],
      "execution_count": null,
      "outputs": [
        {
          "output_type": "execute_result",
          "data": {
            "text/plain": [
              "array([1. , 2. , 3.5, 5. , 6.5])"
            ]
          },
          "metadata": {
            "tags": []
          },
          "execution_count": 28
        }
      ]
    },
    {
      "cell_type": "markdown",
      "metadata": {
        "id": "x8FR2qOeSY9J"
      },
      "source": [
        "위에서 만든 python list를 이용하거나, 바로 python list를 넣어서 array 정의함."
      ]
    },
    {
      "cell_type": "code",
      "metadata": {
        "colab": {
          "base_uri": "https://localhost:8080/"
        },
        "id": "fPJxvOtmSDm0",
        "outputId": "af5b1b9b-bf94-4d57-e9fe-efcff6f19a08"
      },
      "source": [
        "# array 크기 확인\r\n",
        "arr1.shape"
      ],
      "execution_count": null,
      "outputs": [
        {
          "output_type": "execute_result",
          "data": {
            "text/plain": [
              "(5,)"
            ]
          },
          "metadata": {
            "tags": []
          },
          "execution_count": 15
        }
      ]
    },
    {
      "cell_type": "code",
      "metadata": {
        "colab": {
          "base_uri": "https://localhost:8080/"
        },
        "id": "3JFQc_FqSSZ6",
        "outputId": "e10934bf-d03d-4315-8561-c289aebc18cc"
      },
      "source": [
        "# array 자료형 확인\r\n",
        "arr2.dtype"
      ],
      "execution_count": null,
      "outputs": [
        {
          "output_type": "execute_result",
          "data": {
            "text/plain": [
              "dtype('int64')"
            ]
          },
          "metadata": {
            "tags": []
          },
          "execution_count": 17
        }
      ]
    },
    {
      "cell_type": "code",
      "metadata": {
        "colab": {
          "base_uri": "https://localhost:8080/"
        },
        "id": "QYYHeo3ES0Q9",
        "outputId": "c647c3b7-bc27-4557-e2e9-f323d7ebeb5d"
      },
      "source": [
        "arr4 = np.array([[1,2,3],[4,5,6],[7,8,9],[10,11,12]])\r\n",
        "arr4"
      ],
      "execution_count": null,
      "outputs": [
        {
          "output_type": "execute_result",
          "data": {
            "text/plain": [
              "array([[ 1,  2,  3],\n",
              "       [ 4,  5,  6],\n",
              "       [ 7,  8,  9],\n",
              "       [10, 11, 12]])"
            ]
          },
          "metadata": {
            "tags": []
          },
          "execution_count": 22
        }
      ]
    },
    {
      "cell_type": "code",
      "metadata": {
        "colab": {
          "base_uri": "https://localhost:8080/"
        },
        "id": "Oa-_wMIAS-au",
        "outputId": "e2b4d285-9274-456e-a125-6861e3561971"
      },
      "source": [
        "arr4.shape"
      ],
      "execution_count": null,
      "outputs": [
        {
          "output_type": "execute_result",
          "data": {
            "text/plain": [
              "(4, 3)"
            ]
          },
          "metadata": {
            "tags": []
          },
          "execution_count": 24
        }
      ]
    },
    {
      "cell_type": "code",
      "metadata": {
        "colab": {
          "base_uri": "https://localhost:8080/"
        },
        "id": "K0M4XuDST96e",
        "outputId": "c745946f-4513-4fc3-a504-4025fc4e8b9d"
      },
      "source": [
        "arr4.dtype"
      ],
      "execution_count": null,
      "outputs": [
        {
          "output_type": "execute_result",
          "data": {
            "text/plain": [
              "dtype('int64')"
            ]
          },
          "metadata": {
            "tags": []
          },
          "execution_count": 25
        }
      ]
    },
    {
      "cell_type": "markdown",
      "metadata": {
        "id": "lxdVHtsFTNXI"
      },
      "source": [
        "arr1.shape: (5, ) = 크기가 5인 1차원 데이터, arr4.shape: (4,3) = 크기가 4*3인 2차원 데이터"
      ]
    },
    {
      "cell_type": "code",
      "metadata": {
        "colab": {
          "base_uri": "https://localhost:8080/"
        },
        "id": "Wxnl1Oy7TLJ8",
        "outputId": "3b4c5dad-ff2f-4c3c-f66c-647055832142"
      },
      "source": [
        "np.zeros(10)"
      ],
      "execution_count": null,
      "outputs": [
        {
          "output_type": "execute_result",
          "data": {
            "text/plain": [
              "array([0., 0., 0., 0., 0., 0., 0., 0., 0., 0.])"
            ]
          },
          "metadata": {
            "tags": []
          },
          "execution_count": 29
        }
      ]
    },
    {
      "cell_type": "code",
      "metadata": {
        "colab": {
          "base_uri": "https://localhost:8080/"
        },
        "id": "oCy-GJitULEo",
        "outputId": "ac78bf05-db30-4f83-d8ed-aeb9e14dc664"
      },
      "source": [
        "np.zeros((3,5))"
      ],
      "execution_count": null,
      "outputs": [
        {
          "output_type": "execute_result",
          "data": {
            "text/plain": [
              "array([[0., 0., 0., 0., 0.],\n",
              "       [0., 0., 0., 0., 0.],\n",
              "       [0., 0., 0., 0., 0.]])"
            ]
          },
          "metadata": {
            "tags": []
          },
          "execution_count": 30
        }
      ]
    },
    {
      "cell_type": "code",
      "metadata": {
        "colab": {
          "base_uri": "https://localhost:8080/"
        },
        "id": "lH4DLvTFUNpR",
        "outputId": "8d91bc13-8261-4228-c03a-900eb3bfaccf"
      },
      "source": [
        "np.ones(9)"
      ],
      "execution_count": null,
      "outputs": [
        {
          "output_type": "execute_result",
          "data": {
            "text/plain": [
              "array([1., 1., 1., 1., 1., 1., 1., 1., 1.])"
            ]
          },
          "metadata": {
            "tags": []
          },
          "execution_count": 31
        }
      ]
    },
    {
      "cell_type": "code",
      "metadata": {
        "colab": {
          "base_uri": "https://localhost:8080/"
        },
        "id": "HvmxTN-mUYXU",
        "outputId": "ec4eea69-6770-4b2b-825f-76c9292589d5"
      },
      "source": [
        "np.ones((3,4,5))"
      ],
      "execution_count": null,
      "outputs": [
        {
          "output_type": "execute_result",
          "data": {
            "text/plain": [
              "array([[[1., 1., 1., 1., 1.],\n",
              "        [1., 1., 1., 1., 1.],\n",
              "        [1., 1., 1., 1., 1.],\n",
              "        [1., 1., 1., 1., 1.]],\n",
              "\n",
              "       [[1., 1., 1., 1., 1.],\n",
              "        [1., 1., 1., 1., 1.],\n",
              "        [1., 1., 1., 1., 1.],\n",
              "        [1., 1., 1., 1., 1.]],\n",
              "\n",
              "       [[1., 1., 1., 1., 1.],\n",
              "        [1., 1., 1., 1., 1.],\n",
              "        [1., 1., 1., 1., 1.],\n",
              "        [1., 1., 1., 1., 1.]]])"
            ]
          },
          "metadata": {
            "tags": []
          },
          "execution_count": 32
        }
      ]
    },
    {
      "cell_type": "code",
      "metadata": {
        "colab": {
          "base_uri": "https://localhost:8080/"
        },
        "id": "79u_L1OpUZnn",
        "outputId": "a4195bdd-f7ea-4a6f-d050-38c2a3cca89b"
      },
      "source": [
        "np.arange(10)"
      ],
      "execution_count": null,
      "outputs": [
        {
          "output_type": "execute_result",
          "data": {
            "text/plain": [
              "array([0, 1, 2, 3, 4, 5, 6, 7, 8, 9])"
            ]
          },
          "metadata": {
            "tags": []
          },
          "execution_count": 33
        }
      ]
    },
    {
      "cell_type": "code",
      "metadata": {
        "colab": {
          "base_uri": "https://localhost:8080/"
        },
        "id": "nBigFdTkUlt5",
        "outputId": "a6043f58-b24b-4cff-8081-d62587204208"
      },
      "source": [
        "data4 = np.arange(5)\r\n",
        "data4"
      ],
      "execution_count": null,
      "outputs": [
        {
          "output_type": "execute_result",
          "data": {
            "text/plain": [
              "array([0, 1, 2, 3, 4])"
            ]
          },
          "metadata": {
            "tags": []
          },
          "execution_count": 40
        }
      ]
    },
    {
      "cell_type": "code",
      "metadata": {
        "colab": {
          "base_uri": "https://localhost:8080/"
        },
        "id": "CbZTTErfUocF",
        "outputId": "8f969692-8a5d-4ee5-8134-bbb8b8a67b18"
      },
      "source": [
        "np.arange(3,11)"
      ],
      "execution_count": null,
      "outputs": [
        {
          "output_type": "execute_result",
          "data": {
            "text/plain": [
              "array([ 3,  4,  5,  6,  7,  8,  9, 10])"
            ]
          },
          "metadata": {
            "tags": []
          },
          "execution_count": 41
        }
      ]
    },
    {
      "cell_type": "code",
      "metadata": {
        "colab": {
          "base_uri": "https://localhost:8080/"
        },
        "id": "6QfoLPp5Uzuk",
        "outputId": "fb815e1b-9b4c-46ab-d3b0-30fbf03bc4bc"
      },
      "source": [
        "arr1 = np.array([[1,2,3], [4,5,6]])\r\n",
        "arr1"
      ],
      "execution_count": null,
      "outputs": [
        {
          "output_type": "execute_result",
          "data": {
            "text/plain": [
              "array([[1, 2, 3],\n",
              "       [4, 5, 6]])"
            ]
          },
          "metadata": {
            "tags": []
          },
          "execution_count": 43
        }
      ]
    },
    {
      "cell_type": "code",
      "metadata": {
        "colab": {
          "base_uri": "https://localhost:8080/"
        },
        "id": "syIJb1vTVAPN",
        "outputId": "d1ff2d55-2683-4b2a-8af5-b6efe1d80c41"
      },
      "source": [
        "arr2 = np.array([[7,8,9], [10,11,12]])\r\n",
        "arr2"
      ],
      "execution_count": null,
      "outputs": [
        {
          "output_type": "execute_result",
          "data": {
            "text/plain": [
              "array([[ 7,  8,  9],\n",
              "       [10, 11, 12]])"
            ]
          },
          "metadata": {
            "tags": []
          },
          "execution_count": 45
        }
      ]
    },
    {
      "cell_type": "code",
      "metadata": {
        "colab": {
          "base_uri": "https://localhost:8080/"
        },
        "id": "VEZ-_ofpVHUx",
        "outputId": "d2be0893-b77a-4222-91f3-65e643171fe4"
      },
      "source": [
        "arr1.shape"
      ],
      "execution_count": null,
      "outputs": [
        {
          "output_type": "execute_result",
          "data": {
            "text/plain": [
              "(2, 3)"
            ]
          },
          "metadata": {
            "tags": []
          },
          "execution_count": 46
        }
      ]
    },
    {
      "cell_type": "code",
      "metadata": {
        "colab": {
          "base_uri": "https://localhost:8080/"
        },
        "id": "D0HJCAo0VJJY",
        "outputId": "23d5522e-ddac-41dc-d0c0-ccd237d146d4"
      },
      "source": [
        "arr2.shape"
      ],
      "execution_count": null,
      "outputs": [
        {
          "output_type": "execute_result",
          "data": {
            "text/plain": [
              "(2, 3)"
            ]
          },
          "metadata": {
            "tags": []
          },
          "execution_count": 47
        }
      ]
    },
    {
      "cell_type": "code",
      "metadata": {
        "colab": {
          "base_uri": "https://localhost:8080/"
        },
        "id": "Suhm80LTVKqn",
        "outputId": "542bc98f-0b6a-4e1d-8f60-62b0295159f5"
      },
      "source": [
        "arr1+arr2"
      ],
      "execution_count": null,
      "outputs": [
        {
          "output_type": "execute_result",
          "data": {
            "text/plain": [
              "array([[ 8, 10, 12],\n",
              "       [14, 16, 18]])"
            ]
          },
          "metadata": {
            "tags": []
          },
          "execution_count": 48
        }
      ]
    },
    {
      "cell_type": "code",
      "metadata": {
        "colab": {
          "base_uri": "https://localhost:8080/"
        },
        "id": "MMQmK7jJVMvl",
        "outputId": "cb61d072-a467-434a-c083-9782676285ab"
      },
      "source": [
        "arr1*arr2"
      ],
      "execution_count": null,
      "outputs": [
        {
          "output_type": "execute_result",
          "data": {
            "text/plain": [
              "array([[ 7, 16, 27],\n",
              "       [40, 55, 72]])"
            ]
          },
          "metadata": {
            "tags": []
          },
          "execution_count": 49
        }
      ]
    },
    {
      "cell_type": "code",
      "metadata": {
        "colab": {
          "base_uri": "https://localhost:8080/"
        },
        "id": "c4DkTYfXVOMZ",
        "outputId": "0754dec7-d89b-4927-c6dc-772ad046b9bc"
      },
      "source": [
        "arr2%arr1"
      ],
      "execution_count": null,
      "outputs": [
        {
          "output_type": "execute_result",
          "data": {
            "text/plain": [
              "array([[0, 0, 0],\n",
              "       [2, 1, 0]])"
            ]
          },
          "metadata": {
            "tags": []
          },
          "execution_count": 51
        }
      ]
    },
    {
      "cell_type": "code",
      "metadata": {
        "colab": {
          "base_uri": "https://localhost:8080/"
        },
        "id": "PJgctcvwVS1s",
        "outputId": "b2bc9c1e-8c14-47e1-895c-691a825c950f"
      },
      "source": [
        "arr1"
      ],
      "execution_count": null,
      "outputs": [
        {
          "output_type": "execute_result",
          "data": {
            "text/plain": [
              "array([[1, 2, 3],\n",
              "       [4, 5, 6]])"
            ]
          },
          "metadata": {
            "tags": []
          },
          "execution_count": 52
        }
      ]
    },
    {
      "cell_type": "code",
      "metadata": {
        "colab": {
          "base_uri": "https://localhost:8080/"
        },
        "id": "-t4uHQxKVauu",
        "outputId": "21e9965d-f33d-4b70-f0cf-68243706fa83"
      },
      "source": [
        "arr3 = np.array([3,4,5])\r\n",
        "arr3.shape"
      ],
      "execution_count": null,
      "outputs": [
        {
          "output_type": "execute_result",
          "data": {
            "text/plain": [
              "(3,)"
            ]
          },
          "metadata": {
            "tags": []
          },
          "execution_count": 54
        }
      ]
    },
    {
      "cell_type": "code",
      "metadata": {
        "colab": {
          "base_uri": "https://localhost:8080/"
        },
        "id": "S_0To6O_VjD-",
        "outputId": "d8d480e8-3403-4ac6-eff0-04182d971ef1"
      },
      "source": [
        "arr1"
      ],
      "execution_count": null,
      "outputs": [
        {
          "output_type": "execute_result",
          "data": {
            "text/plain": [
              "array([[1, 2, 3],\n",
              "       [4, 5, 6]])"
            ]
          },
          "metadata": {
            "tags": []
          },
          "execution_count": 56
        }
      ]
    },
    {
      "cell_type": "code",
      "metadata": {
        "colab": {
          "base_uri": "https://localhost:8080/"
        },
        "id": "0sf74-I9VdN2",
        "outputId": "acda5a5b-5b01-4650-cbc8-b3ce00e8d4fd"
      },
      "source": [
        "arr1+arr3"
      ],
      "execution_count": null,
      "outputs": [
        {
          "output_type": "execute_result",
          "data": {
            "text/plain": [
              "array([[ 4,  6,  8],\n",
              "       [ 7,  9, 11]])"
            ]
          },
          "metadata": {
            "tags": []
          },
          "execution_count": 55
        }
      ]
    },
    {
      "cell_type": "code",
      "metadata": {
        "colab": {
          "base_uri": "https://localhost:8080/"
        },
        "id": "z2mpzW1_Vh-e",
        "outputId": "b6fea87b-c2c8-4a50-8a85-afc7b3a8463e"
      },
      "source": [
        "arr3*100"
      ],
      "execution_count": null,
      "outputs": [
        {
          "output_type": "execute_result",
          "data": {
            "text/plain": [
              "array([300, 400, 500])"
            ]
          },
          "metadata": {
            "tags": []
          },
          "execution_count": 57
        }
      ]
    },
    {
      "cell_type": "code",
      "metadata": {
        "colab": {
          "base_uri": "https://localhost:8080/"
        },
        "id": "ZNIaTybHVnhI",
        "outputId": "c7bcc0e0-2a57-4363-ab9b-8f6eb273c115"
      },
      "source": [
        "arr1 = np.arange(10)\r\n",
        "arr1"
      ],
      "execution_count": null,
      "outputs": [
        {
          "output_type": "execute_result",
          "data": {
            "text/plain": [
              "array([0, 1, 2, 3, 4, 5, 6, 7, 8, 9])"
            ]
          },
          "metadata": {
            "tags": []
          },
          "execution_count": 60
        }
      ]
    },
    {
      "cell_type": "code",
      "metadata": {
        "colab": {
          "base_uri": "https://localhost:8080/"
        },
        "id": "uPp3CXBuVuMz",
        "outputId": "1d4c0a60-7f39-44ab-b427-dc305759727c"
      },
      "source": [
        "arr1[0]"
      ],
      "execution_count": null,
      "outputs": [
        {
          "output_type": "execute_result",
          "data": {
            "text/plain": [
              "0"
            ]
          },
          "metadata": {
            "tags": []
          },
          "execution_count": 61
        }
      ]
    },
    {
      "cell_type": "code",
      "metadata": {
        "colab": {
          "base_uri": "https://localhost:8080/"
        },
        "id": "Tp-P_F8rV1sy",
        "outputId": "b8460d22-b8f0-4a8c-f89e-aae6ab3bc9d9"
      },
      "source": [
        "arr1[3]"
      ],
      "execution_count": null,
      "outputs": [
        {
          "output_type": "execute_result",
          "data": {
            "text/plain": [
              "3"
            ]
          },
          "metadata": {
            "tags": []
          },
          "execution_count": 63
        }
      ]
    },
    {
      "cell_type": "code",
      "metadata": {
        "colab": {
          "base_uri": "https://localhost:8080/"
        },
        "id": "4uX3qTnGV2vN",
        "outputId": "381ef6b9-8a1b-452e-fe02-f041f6022168"
      },
      "source": [
        "arr1[3:2]"
      ],
      "execution_count": null,
      "outputs": [
        {
          "output_type": "execute_result",
          "data": {
            "text/plain": [
              "array([], dtype=int64)"
            ]
          },
          "metadata": {
            "tags": []
          },
          "execution_count": 64
        }
      ]
    },
    {
      "cell_type": "code",
      "metadata": {
        "colab": {
          "base_uri": "https://localhost:8080/"
        },
        "id": "LhK87kG5WAqI",
        "outputId": "6c98c16f-91ec-41ae-8510-7d4f9e7d1ee0"
      },
      "source": [
        "arr2 = np.array([[1,2,3],\r\n",
        "                 [4,5,6]])\r\n",
        "arr2"
      ],
      "execution_count": null,
      "outputs": [
        {
          "output_type": "execute_result",
          "data": {
            "text/plain": [
              "array([[1, 2, 3],\n",
              "       [4, 5, 6]])"
            ]
          },
          "metadata": {
            "tags": []
          },
          "execution_count": 66
        }
      ]
    },
    {
      "cell_type": "code",
      "metadata": {
        "colab": {
          "base_uri": "https://localhost:8080/"
        },
        "id": "UwBlgmXcWSwA",
        "outputId": "a880f2d0-10b2-4f63-e77c-28173d3ff285"
      },
      "source": [
        "arr2[0,2]"
      ],
      "execution_count": null,
      "outputs": [
        {
          "output_type": "execute_result",
          "data": {
            "text/plain": [
              "3"
            ]
          },
          "metadata": {
            "tags": []
          },
          "execution_count": 68
        }
      ]
    },
    {
      "cell_type": "code",
      "metadata": {
        "colab": {
          "base_uri": "https://localhost:8080/"
        },
        "id": "ZvJldQTUWd8s",
        "outputId": "161358ff-443c-4d54-da65-424b224f354c"
      },
      "source": [
        "arr2[0,:]"
      ],
      "execution_count": null,
      "outputs": [
        {
          "output_type": "execute_result",
          "data": {
            "text/plain": [
              "array([1, 2, 3])"
            ]
          },
          "metadata": {
            "tags": []
          },
          "execution_count": 69
        }
      ]
    },
    {
      "cell_type": "code",
      "metadata": {
        "colab": {
          "base_uri": "https://localhost:8080/"
        },
        "id": "st1xMSBNWk2f",
        "outputId": "48a9a347-0e76-454c-862e-71c0f7caeef6"
      },
      "source": [
        "arr2[:,2]"
      ],
      "execution_count": null,
      "outputs": [
        {
          "output_type": "execute_result",
          "data": {
            "text/plain": [
              "array([3, 6])"
            ]
          },
          "metadata": {
            "tags": []
          },
          "execution_count": 71
        }
      ]
    },
    {
      "cell_type": "code",
      "metadata": {
        "colab": {
          "base_uri": "https://localhost:8080/"
        },
        "id": "KwxLK0ncWngX",
        "outputId": "99418b0f-4f89-4fe6-aad6-0df316cf3c51"
      },
      "source": [
        "names = np.array(['김', '박',' 안', '차', '김', '윤', '홍', '배'])\r\n",
        "names"
      ],
      "execution_count": null,
      "outputs": [
        {
          "output_type": "execute_result",
          "data": {
            "text/plain": [
              "array(['김', '박', ' 안', '차', '김', '윤', '홍', '배'], dtype='<U2')"
            ]
          },
          "metadata": {
            "tags": []
          },
          "execution_count": 72
        }
      ]
    },
    {
      "cell_type": "code",
      "metadata": {
        "colab": {
          "base_uri": "https://localhost:8080/"
        },
        "id": "mgPGO3gQW65o",
        "outputId": "0c3912f4-30e9-4f18-ec1d-02d341a87c36"
      },
      "source": [
        "names.shape"
      ],
      "execution_count": null,
      "outputs": [
        {
          "output_type": "execute_result",
          "data": {
            "text/plain": [
              "(8,)"
            ]
          },
          "metadata": {
            "tags": []
          },
          "execution_count": 73
        }
      ]
    },
    {
      "cell_type": "code",
      "metadata": {
        "colab": {
          "base_uri": "https://localhost:8080/"
        },
        "id": "rpud0AsPW9x2",
        "outputId": "4db9f120-8bfb-4a64-8ce0-e7abff41f9bb"
      },
      "source": [
        "data = np.random.randn(8,4)\r\n",
        "data"
      ],
      "execution_count": null,
      "outputs": [
        {
          "output_type": "execute_result",
          "data": {
            "text/plain": [
              "array([[ 0.53290067,  1.3790179 ,  0.25932516, -0.58973976],\n",
              "       [ 0.68571275, -0.56850886, -0.88765477,  1.58147133],\n",
              "       [-3.46664597, -0.70829313, -0.50947101, -1.82117705],\n",
              "       [-0.90582864,  0.62915508, -1.03225404, -0.05582785],\n",
              "       [-0.44677575, -0.9198343 , -1.35475207, -0.14468953],\n",
              "       [ 0.04227735, -1.14652753,  0.84396512, -0.41775533],\n",
              "       [-0.03419671,  0.90057514,  0.59638832, -0.36516207],\n",
              "       [ 0.44969364, -0.29914403, -1.09930262, -1.76177853]])"
            ]
          },
          "metadata": {
            "tags": []
          },
          "execution_count": 75
        }
      ]
    },
    {
      "cell_type": "code",
      "metadata": {
        "colab": {
          "base_uri": "https://localhost:8080/"
        },
        "id": "31lRD1ZiXCoc",
        "outputId": "af3b4a17-4a99-491f-d54b-1c24aab9e14e"
      },
      "source": [
        "hi = (names == '차')\r\n",
        "hi"
      ],
      "execution_count": null,
      "outputs": [
        {
          "output_type": "execute_result",
          "data": {
            "text/plain": [
              "array([False, False, False,  True, False, False, False, False])"
            ]
          },
          "metadata": {
            "tags": []
          },
          "execution_count": 76
        }
      ]
    },
    {
      "cell_type": "code",
      "metadata": {
        "colab": {
          "base_uri": "https://localhost:8080/"
        },
        "id": "O2GiiZEVXP2N",
        "outputId": "b7606d28-1d21-403a-dd0e-5f1716780c50"
      },
      "source": [
        "# hi -> names_차_mask\r\n",
        "names_차_mask = (names == '차')\r\n",
        "names_차_mask"
      ],
      "execution_count": null,
      "outputs": [
        {
          "output_type": "execute_result",
          "data": {
            "text/plain": [
              "array([False, False, False,  True, False, False, False, False])"
            ]
          },
          "metadata": {
            "tags": []
          },
          "execution_count": 78
        }
      ]
    },
    {
      "cell_type": "code",
      "metadata": {
        "colab": {
          "base_uri": "https://localhost:8080/"
        },
        "id": "Z-053TygXjfB",
        "outputId": "6c71d01e-0d54-458b-b797-42d69e9205e8"
      },
      "source": [
        "data[3,:]"
      ],
      "execution_count": null,
      "outputs": [
        {
          "output_type": "execute_result",
          "data": {
            "text/plain": [
              "array([-0.90582864,  0.62915508, -1.03225404, -0.05582785])"
            ]
          },
          "metadata": {
            "tags": []
          },
          "execution_count": 81
        }
      ]
    },
    {
      "cell_type": "code",
      "metadata": {
        "colab": {
          "base_uri": "https://localhost:8080/"
        },
        "id": "VjPYJqUHXw5O",
        "outputId": "fa42443d-7e04-4b2f-c9e6-a4bb1b4906d7"
      },
      "source": [
        "data[names =='차']"
      ],
      "execution_count": null,
      "outputs": [
        {
          "output_type": "execute_result",
          "data": {
            "text/plain": [
              "array([[-0.90582864,  0.62915508, -1.03225404, -0.05582785]])"
            ]
          },
          "metadata": {
            "tags": []
          },
          "execution_count": 82
        }
      ]
    },
    {
      "cell_type": "code",
      "metadata": {
        "colab": {
          "base_uri": "https://localhost:8080/"
        },
        "id": "HBNdsoWpX5MF",
        "outputId": "942eccdc-4297-40fb-fe60-aef722d09c88"
      },
      "source": [
        "data[names_차_mask, :]"
      ],
      "execution_count": null,
      "outputs": [
        {
          "output_type": "execute_result",
          "data": {
            "text/plain": [
              "array([[-0.90582864,  0.62915508, -1.03225404, -0.05582785]])"
            ]
          },
          "metadata": {
            "tags": []
          },
          "execution_count": 83
        }
      ]
    },
    {
      "cell_type": "code",
      "metadata": {
        "colab": {
          "base_uri": "https://localhost:8080/"
        },
        "id": "-HUnAtWfYCRO",
        "outputId": "7276fa69-9dcb-4fa6-98d3-6c9d884c8883"
      },
      "source": [
        "arr1 = np.random.randn(5,3)\r\n",
        "arr1"
      ],
      "execution_count": null,
      "outputs": [
        {
          "output_type": "execute_result",
          "data": {
            "text/plain": [
              "array([[-0.12405024, -0.83099515,  0.1913423 ],\n",
              "       [-1.55661792,  1.1788817 ,  0.96793687],\n",
              "       [-0.8371553 , -0.32113525, -0.38641548],\n",
              "       [-0.39687745, -0.6228281 , -0.44255804],\n",
              "       [ 0.33018735,  1.30148528, -0.10516037]])"
            ]
          },
          "metadata": {
            "tags": []
          },
          "execution_count": 86
        }
      ]
    },
    {
      "cell_type": "code",
      "metadata": {
        "colab": {
          "base_uri": "https://localhost:8080/"
        },
        "id": "xe10Z2uiYL5o",
        "outputId": "05f60ce7-72df-483b-d183-9b2b3a232770"
      },
      "source": [
        "np.abs(arr1)"
      ],
      "execution_count": null,
      "outputs": [
        {
          "output_type": "execute_result",
          "data": {
            "text/plain": [
              "array([[0.12405024, 0.83099515, 0.1913423 ],\n",
              "       [1.55661792, 1.1788817 , 0.96793687],\n",
              "       [0.8371553 , 0.32113525, 0.38641548],\n",
              "       [0.39687745, 0.6228281 , 0.44255804],\n",
              "       [0.33018735, 1.30148528, 0.10516037]])"
            ]
          },
          "metadata": {
            "tags": []
          },
          "execution_count": 87
        }
      ]
    },
    {
      "cell_type": "code",
      "metadata": {
        "colab": {
          "base_uri": "https://localhost:8080/"
        },
        "id": "h7RedGO0YSMO",
        "outputId": "db2bff12-df47-45bc-d7e5-55b0874de9bc"
      },
      "source": [
        "np.sqrt(arr1)"
      ],
      "execution_count": null,
      "outputs": [
        {
          "output_type": "stream",
          "text": [
            "/usr/local/lib/python3.6/dist-packages/ipykernel_launcher.py:1: RuntimeWarning: invalid value encountered in sqrt\n",
            "  \"\"\"Entry point for launching an IPython kernel.\n"
          ],
          "name": "stderr"
        },
        {
          "output_type": "execute_result",
          "data": {
            "text/plain": [
              "array([[       nan,        nan, 0.43742691],\n",
              "       [       nan, 1.08576319, 0.98383783],\n",
              "       [       nan,        nan,        nan],\n",
              "       [       nan,        nan,        nan],\n",
              "       [0.57461931, 1.14082658,        nan]])"
            ]
          },
          "metadata": {
            "tags": []
          },
          "execution_count": 88
        }
      ]
    },
    {
      "cell_type": "code",
      "metadata": {
        "colab": {
          "base_uri": "https://localhost:8080/"
        },
        "id": "LyAH69u_YXD-",
        "outputId": "0a575e55-a05a-4392-8a60-d8aa691ca9ef"
      },
      "source": [
        "np.square(arr1)"
      ],
      "execution_count": null,
      "outputs": [
        {
          "output_type": "execute_result",
          "data": {
            "text/plain": [
              "array([[0.01538846, 0.69055294, 0.03661188],\n",
              "       [2.42305935, 1.38976207, 0.93690179],\n",
              "       [0.70082899, 0.10312785, 0.14931692],\n",
              "       [0.15751171, 0.38791484, 0.19585762],\n",
              "       [0.10902369, 1.69386394, 0.0110587 ]])"
            ]
          },
          "metadata": {
            "tags": []
          },
          "execution_count": 89
        }
      ]
    },
    {
      "cell_type": "code",
      "metadata": {
        "colab": {
          "base_uri": "https://localhost:8080/"
        },
        "id": "T1TOH1JSYbG2",
        "outputId": "a5c6715b-9c1f-4b04-97f4-45645584db6c"
      },
      "source": [
        "np.exp(arr1)"
      ],
      "execution_count": null,
      "outputs": [
        {
          "output_type": "execute_result",
          "data": {
            "text/plain": [
              "array([[0.88333546, 0.43561557, 1.21087386],\n",
              "       [0.21084797, 3.25073689, 2.63250766],\n",
              "       [0.43294036, 0.72532514, 0.67948815],\n",
              "       [0.67241643, 0.53642523, 0.64239105],\n",
              "       [1.39122875, 3.67475066, 0.90018015]])"
            ]
          },
          "metadata": {
            "tags": []
          },
          "execution_count": 90
        }
      ]
    },
    {
      "cell_type": "code",
      "metadata": {
        "colab": {
          "base_uri": "https://localhost:8080/"
        },
        "id": "jLZk9wP0Yej-",
        "outputId": "e58062e0-b688-4f01-d718-24e3de7bbcf5"
      },
      "source": [
        "data0 = np.arange(11)\r\n",
        "data0"
      ],
      "execution_count": null,
      "outputs": [
        {
          "output_type": "execute_result",
          "data": {
            "text/plain": [
              "array([ 0,  1,  2,  3,  4,  5,  6,  7,  8,  9, 10])"
            ]
          },
          "metadata": {
            "tags": []
          },
          "execution_count": 93
        }
      ]
    },
    {
      "cell_type": "code",
      "metadata": {
        "colab": {
          "base_uri": "https://localhost:8080/"
        },
        "id": "dcDjJXYBYt-Z",
        "outputId": "ac0cd301-c78e-4103-c440-9f39e5a55be9"
      },
      "source": [
        "np.log10(data0)"
      ],
      "execution_count": null,
      "outputs": [
        {
          "output_type": "stream",
          "text": [
            "/usr/local/lib/python3.6/dist-packages/ipykernel_launcher.py:1: RuntimeWarning: divide by zero encountered in log10\n",
            "  \"\"\"Entry point for launching an IPython kernel.\n"
          ],
          "name": "stderr"
        },
        {
          "output_type": "execute_result",
          "data": {
            "text/plain": [
              "array([      -inf, 0.        , 0.30103   , 0.47712125, 0.60205999,\n",
              "       0.69897   , 0.77815125, 0.84509804, 0.90308999, 0.95424251,\n",
              "       1.        ])"
            ]
          },
          "metadata": {
            "tags": []
          },
          "execution_count": 94
        }
      ]
    },
    {
      "cell_type": "code",
      "metadata": {
        "colab": {
          "base_uri": "https://localhost:8080/"
        },
        "id": "uAfcfGxuYzXg",
        "outputId": "3fe656b6-9604-4594-dc50-7ad85a9a5c5a"
      },
      "source": [
        "np.log(data)"
      ],
      "execution_count": null,
      "outputs": [
        {
          "output_type": "stream",
          "text": [
            "/usr/local/lib/python3.6/dist-packages/ipykernel_launcher.py:1: RuntimeWarning: invalid value encountered in log\n",
            "  \"\"\"Entry point for launching an IPython kernel.\n"
          ],
          "name": "stderr"
        },
        {
          "output_type": "execute_result",
          "data": {
            "text/plain": [
              "array([[-0.62942023,  0.32137158, -1.34967257,         nan],\n",
              "       [-0.37729646,         nan,         nan,  0.45835564],\n",
              "       [        nan,         nan,         nan,         nan],\n",
              "       [        nan, -0.46337751,         nan,         nan],\n",
              "       [        nan,         nan,         nan,         nan],\n",
              "       [-3.16350389,         nan, -0.16964412,         nan],\n",
              "       [        nan, -0.10472168, -0.51686329,         nan],\n",
              "       [-0.79918873,         nan,         nan,         nan]])"
            ]
          },
          "metadata": {
            "tags": []
          },
          "execution_count": 95
        }
      ]
    },
    {
      "cell_type": "code",
      "metadata": {
        "colab": {
          "base_uri": "https://localhost:8080/"
        },
        "id": "3bbp4KgmY1RU",
        "outputId": "33cde127-d3db-4a66-9b67-4ec9e4e3de07"
      },
      "source": [
        "np.sqrt(arr1)"
      ],
      "execution_count": null,
      "outputs": [
        {
          "output_type": "stream",
          "text": [
            "/usr/local/lib/python3.6/dist-packages/ipykernel_launcher.py:1: RuntimeWarning: invalid value encountered in sqrt\n",
            "  \"\"\"Entry point for launching an IPython kernel.\n"
          ],
          "name": "stderr"
        },
        {
          "output_type": "execute_result",
          "data": {
            "text/plain": [
              "array([[       nan,        nan, 0.43742691],\n",
              "       [       nan, 1.08576319, 0.98383783],\n",
              "       [       nan,        nan,        nan],\n",
              "       [       nan,        nan,        nan],\n",
              "       [0.57461931, 1.14082658,        nan]])"
            ]
          },
          "metadata": {
            "tags": []
          },
          "execution_count": 98
        }
      ]
    },
    {
      "cell_type": "code",
      "metadata": {
        "colab": {
          "base_uri": "https://localhost:8080/"
        },
        "id": "Z6wxr__XdcHx",
        "outputId": "be15384f-86ae-4a18-e1e6-95824a3624d3"
      },
      "source": [
        "np.isnan(np.sqrt(arr1))"
      ],
      "execution_count": null,
      "outputs": [
        {
          "output_type": "stream",
          "text": [
            "/usr/local/lib/python3.6/dist-packages/ipykernel_launcher.py:1: RuntimeWarning: invalid value encountered in sqrt\n",
            "  \"\"\"Entry point for launching an IPython kernel.\n"
          ],
          "name": "stderr"
        },
        {
          "output_type": "execute_result",
          "data": {
            "text/plain": [
              "array([[ True,  True, False],\n",
              "       [ True, False, False],\n",
              "       [ True,  True,  True],\n",
              "       [ True,  True,  True],\n",
              "       [False, False,  True]])"
            ]
          },
          "metadata": {
            "tags": []
          },
          "execution_count": 99
        }
      ]
    },
    {
      "cell_type": "code",
      "metadata": {
        "colab": {
          "base_uri": "https://localhost:8080/"
        },
        "id": "uLijiUK9diLf",
        "outputId": "2526c742-3e9e-4079-a371-4feea18cec1d"
      },
      "source": [
        "arr1[np.isnan(np.sqrt(arr1))]"
      ],
      "execution_count": null,
      "outputs": [
        {
          "output_type": "stream",
          "text": [
            "/usr/local/lib/python3.6/dist-packages/ipykernel_launcher.py:1: RuntimeWarning: invalid value encountered in sqrt\n",
            "  \"\"\"Entry point for launching an IPython kernel.\n"
          ],
          "name": "stderr"
        },
        {
          "output_type": "execute_result",
          "data": {
            "text/plain": [
              "array([-0.12405024, -0.83099515, -1.55661792, -0.8371553 , -0.32113525,\n",
              "       -0.38641548, -0.39687745, -0.6228281 , -0.44255804, -0.10516037])"
            ]
          },
          "metadata": {
            "tags": []
          },
          "execution_count": 100
        }
      ]
    },
    {
      "cell_type": "code",
      "metadata": {
        "colab": {
          "base_uri": "https://localhost:8080/"
        },
        "id": "I882EHPvdnUg",
        "outputId": "4faa65a5-76d7-45db-ba0a-defeeec64e3c"
      },
      "source": [
        "np.tanh(arr1)"
      ],
      "execution_count": null,
      "outputs": [
        {
          "output_type": "execute_result",
          "data": {
            "text/plain": [
              "array([[-0.12341782, -0.68100999,  0.18904086],\n",
              "       [-0.91487084,  0.82709866,  0.74779626],\n",
              "       [-0.68429938, -0.31053306, -0.36826594],\n",
              "       [-0.37727402, -0.55309405, -0.41576255],\n",
              "       [ 0.31868911,  0.86210503, -0.10477444]])"
            ]
          },
          "metadata": {
            "tags": []
          },
          "execution_count": 101
        }
      ]
    },
    {
      "cell_type": "code",
      "metadata": {
        "colab": {
          "base_uri": "https://localhost:8080/"
        },
        "id": "iC56KD81dr7I",
        "outputId": "ffa77355-2508-4225-c0cb-4247308ae899"
      },
      "source": [
        "arr1"
      ],
      "execution_count": null,
      "outputs": [
        {
          "output_type": "execute_result",
          "data": {
            "text/plain": [
              "array([[-0.12405024, -0.83099515,  0.1913423 ],\n",
              "       [-1.55661792,  1.1788817 ,  0.96793687],\n",
              "       [-0.8371553 , -0.32113525, -0.38641548],\n",
              "       [-0.39687745, -0.6228281 , -0.44255804],\n",
              "       [ 0.33018735,  1.30148528, -0.10516037]])"
            ]
          },
          "metadata": {
            "tags": []
          },
          "execution_count": 102
        }
      ]
    },
    {
      "cell_type": "code",
      "metadata": {
        "colab": {
          "base_uri": "https://localhost:8080/"
        },
        "id": "3IvMDVwBdt4L",
        "outputId": "f5fef174-3739-4cd2-cb77-8ae89edb3866"
      },
      "source": [
        "arr2 = np.random.randn(5,3)\r\n",
        "arr2"
      ],
      "execution_count": null,
      "outputs": [
        {
          "output_type": "execute_result",
          "data": {
            "text/plain": [
              "array([[ 0.99567984, -0.0184687 , -0.4421211 ],\n",
              "       [-0.7031429 ,  0.33373833,  0.16876419],\n",
              "       [-1.70970438, -0.10230143,  1.15164602],\n",
              "       [-0.27084547, -0.65149043,  0.88865253],\n",
              "       [ 0.08169455,  0.85344647,  2.23350298]])"
            ]
          },
          "metadata": {
            "tags": []
          },
          "execution_count": 104
        }
      ]
    },
    {
      "cell_type": "code",
      "metadata": {
        "colab": {
          "base_uri": "https://localhost:8080/"
        },
        "id": "iqN01bjudwdA",
        "outputId": "5138850a-71af-44e5-d2bc-f909da82b5ce"
      },
      "source": [
        "arr1 + arr2"
      ],
      "execution_count": null,
      "outputs": [
        {
          "output_type": "execute_result",
          "data": {
            "text/plain": [
              "array([[ 0.8716296 , -0.84946385, -0.2507788 ],\n",
              "       [-2.25976082,  1.51262003,  1.13670106],\n",
              "       [-2.54685967, -0.42343669,  0.76523054],\n",
              "       [-0.66772292, -1.27431853,  0.44609449],\n",
              "       [ 0.4118819 ,  2.15493175,  2.12834261]])"
            ]
          },
          "metadata": {
            "tags": []
          },
          "execution_count": 105
        }
      ]
    },
    {
      "cell_type": "code",
      "metadata": {
        "colab": {
          "base_uri": "https://localhost:8080/"
        },
        "id": "JGxLDawfdzfa",
        "outputId": "6324ff07-be1a-476d-e976-7c4de4e34b47"
      },
      "source": [
        "np.add(arr1,arr2)"
      ],
      "execution_count": null,
      "outputs": [
        {
          "output_type": "execute_result",
          "data": {
            "text/plain": [
              "array([[ 0.8716296 , -0.84946385, -0.2507788 ],\n",
              "       [-2.25976082,  1.51262003,  1.13670106],\n",
              "       [-2.54685967, -0.42343669,  0.76523054],\n",
              "       [-0.66772292, -1.27431853,  0.44609449],\n",
              "       [ 0.4118819 ,  2.15493175,  2.12834261]])"
            ]
          },
          "metadata": {
            "tags": []
          },
          "execution_count": 107
        }
      ]
    },
    {
      "cell_type": "code",
      "metadata": {
        "id": "eQaJwd3wd1LT"
      },
      "source": [
        ""
      ],
      "execution_count": null,
      "outputs": []
    }
  ]
}