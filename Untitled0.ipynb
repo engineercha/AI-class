{
  "nbformat": 4,
  "nbformat_minor": 0,
  "metadata": {
    "colab": {
      "name": "Untitled0.ipynb",
      "provenance": [],
      "collapsed_sections": [
        "LiUfiNHs8R-K",
        "0FxIgcF_8XRR",
        "9YarKe3e8-CB",
        "Wn_yh-JR_fuM"
      ],
      "authorship_tag": "ABX9TyP4JcQtE9p33cm2vJhzdnhJ",
      "include_colab_link": true
    },
    "kernelspec": {
      "name": "python3",
      "display_name": "Python 3"
    }
  },
  "cells": [
    {
      "cell_type": "markdown",
      "metadata": {
        "id": "view-in-github",
        "colab_type": "text"
      },
      "source": [
        "<a href=\"https://colab.research.google.com/github/engineercha/ai-class/blob/master/Untitled0.ipynb\" target=\"_parent\"><img src=\"https://colab.research.google.com/assets/colab-badge.svg\" alt=\"Open In Colab\"/></a>"
      ]
    },
    {
      "cell_type": "code",
      "metadata": {
        "id": "zSdTRFYdhDgV"
      },
      "source": [
        "import numpy as np"
      ],
      "execution_count": null,
      "outputs": []
    },
    {
      "cell_type": "markdown",
      "metadata": {
        "id": "7CeRR4NwAfSc"
      },
      "source": [
        "##Numpy와 Array"
      ]
    },
    {
      "cell_type": "markdown",
      "metadata": {
        "id": "TtODQTQ8tsci"
      },
      "source": [
        "딥러닝에 행렬, 벡터 연산 많이 사용"
      ]
    },
    {
      "cell_type": "code",
      "metadata": {
        "colab": {
          "base_uri": "https://localhost:8080/"
        },
        "id": "YF_2g850uQ65",
        "outputId": "3b91cfec-aafc-4e50-ff0e-6ad52ccad27d"
      },
      "source": [
        "data1 = [1,2,3,4,5]\r\n",
        "data1"
      ],
      "execution_count": null,
      "outputs": [
        {
          "output_type": "execute_result",
          "data": {
            "text/plain": [
              "[1, 2, 3, 4, 5]"
            ]
          },
          "metadata": {
            "tags": []
          },
          "execution_count": 156
        }
      ]
    },
    {
      "cell_type": "code",
      "metadata": {
        "colab": {
          "base_uri": "https://localhost:8080/"
        },
        "id": "MbU3AjZUujEQ",
        "outputId": "23eb68d5-6dba-447b-bf06-1c48666254fa"
      },
      "source": [
        "arr1 = np.array(data1)\r\n",
        "arr1"
      ],
      "execution_count": null,
      "outputs": [
        {
          "output_type": "execute_result",
          "data": {
            "text/plain": [
              "array([1, 2, 3, 4, 5])"
            ]
          },
          "metadata": {
            "tags": []
          },
          "execution_count": 157
        }
      ]
    },
    {
      "cell_type": "code",
      "metadata": {
        "colab": {
          "base_uri": "https://localhost:8080/"
        },
        "id": "ELHF1p7Quo0a",
        "outputId": "56e9e9f3-0121-4190-8090-421bf635cd9d"
      },
      "source": [
        "arr4 = np.array([[1,2,3],[4,5,6],[7,8,9],[10,11,12]])\r\n",
        "arr4"
      ],
      "execution_count": null,
      "outputs": [
        {
          "output_type": "execute_result",
          "data": {
            "text/plain": [
              "array([[ 1,  2,  3],\n",
              "       [ 4,  5,  6],\n",
              "       [ 7,  8,  9],\n",
              "       [10, 11, 12]])"
            ]
          },
          "metadata": {
            "tags": []
          },
          "execution_count": 158
        }
      ]
    },
    {
      "cell_type": "code",
      "metadata": {
        "colab": {
          "base_uri": "https://localhost:8080/"
        },
        "id": "T0EAv9vBvKjJ",
        "outputId": "dc598b0c-fe0a-4a33-d873-ea1e266a8eb2"
      },
      "source": [
        "arr4.shape"
      ],
      "execution_count": null,
      "outputs": [
        {
          "output_type": "execute_result",
          "data": {
            "text/plain": [
              "(4, 3)"
            ]
          },
          "metadata": {
            "tags": []
          },
          "execution_count": 159
        }
      ]
    },
    {
      "cell_type": "markdown",
      "metadata": {
        "id": "XZms-BZLvR16"
      },
      "source": [
        "행렬의 shape를 확인하는 방법"
      ]
    },
    {
      "cell_type": "code",
      "metadata": {
        "colab": {
          "base_uri": "https://localhost:8080/"
        },
        "id": "dx79Mmd0vM0O",
        "outputId": "8e452df9-d451-4186-ab89-11d074f9daa2"
      },
      "source": [
        "np.zeros(10)"
      ],
      "execution_count": null,
      "outputs": [
        {
          "output_type": "execute_result",
          "data": {
            "text/plain": [
              "array([0., 0., 0., 0., 0., 0., 0., 0., 0., 0.])"
            ]
          },
          "metadata": {
            "tags": []
          },
          "execution_count": 160
        }
      ]
    },
    {
      "cell_type": "code",
      "metadata": {
        "colab": {
          "base_uri": "https://localhost:8080/"
        },
        "id": "FdkERQqbvqwm",
        "outputId": "a3380cda-a37b-42e1-83df-070ac7aa4314"
      },
      "source": [
        "np.ones((2,10))"
      ],
      "execution_count": null,
      "outputs": [
        {
          "output_type": "execute_result",
          "data": {
            "text/plain": [
              "array([[1., 1., 1., 1., 1., 1., 1., 1., 1., 1.],\n",
              "       [1., 1., 1., 1., 1., 1., 1., 1., 1., 1.]])"
            ]
          },
          "metadata": {
            "tags": []
          },
          "execution_count": 161
        }
      ]
    },
    {
      "cell_type": "code",
      "metadata": {
        "colab": {
          "base_uri": "https://localhost:8080/"
        },
        "id": "9Cn3M-_Bvvir",
        "outputId": "5e6e33df-1c04-45d5-a869-e60e35f53eb4"
      },
      "source": [
        "np.arange(3,11)"
      ],
      "execution_count": null,
      "outputs": [
        {
          "output_type": "execute_result",
          "data": {
            "text/plain": [
              "array([ 3,  4,  5,  6,  7,  8,  9, 10])"
            ]
          },
          "metadata": {
            "tags": []
          },
          "execution_count": 162
        }
      ]
    },
    {
      "cell_type": "markdown",
      "metadata": {
        "id": "Iurvz6FDv0No"
      },
      "source": [
        "np.zeros() np.ones() 함수는 인자로 받는 크기만큼, 모든 요소가 0, 1인 array를 만든다."
      ]
    },
    {
      "cell_type": "code",
      "metadata": {
        "colab": {
          "base_uri": "https://localhost:8080/"
        },
        "id": "-6wvchjGwSZo",
        "outputId": "fff4c176-4dc5-4039-a9b6-68c54460698f"
      },
      "source": [
        "arr1 = np.array([[1,2,3],[4,5,6]])\r\n",
        "arr1"
      ],
      "execution_count": null,
      "outputs": [
        {
          "output_type": "execute_result",
          "data": {
            "text/plain": [
              "array([[1, 2, 3],\n",
              "       [4, 5, 6]])"
            ]
          },
          "metadata": {
            "tags": []
          },
          "execution_count": 163
        }
      ]
    },
    {
      "cell_type": "code",
      "metadata": {
        "colab": {
          "base_uri": "https://localhost:8080/"
        },
        "id": "XOMfb5E0wbRP",
        "outputId": "4e9143fa-6857-462d-c8c5-cd24647ee5dd"
      },
      "source": [
        "arr2 = np.array([[7,8,9],[10,11,12]])\r\n",
        "arr2"
      ],
      "execution_count": null,
      "outputs": [
        {
          "output_type": "execute_result",
          "data": {
            "text/plain": [
              "array([[ 7,  8,  9],\n",
              "       [10, 11, 12]])"
            ]
          },
          "metadata": {
            "tags": []
          },
          "execution_count": 164
        }
      ]
    },
    {
      "cell_type": "markdown",
      "metadata": {
        "id": "E4jSGyHLw1Yz"
      },
      "source": [
        "아래는 array 덧셈, 뺄셈, 곱셈, 나눗셈이다. 같은 위치에 있는 요소끼리 연산된다."
      ]
    },
    {
      "cell_type": "code",
      "metadata": {
        "colab": {
          "base_uri": "https://localhost:8080/"
        },
        "id": "1UuURRbowx0Q",
        "outputId": "b65f2c6c-6f53-4c99-9883-b4445eb1f4d4"
      },
      "source": [
        "arr1 + arr2"
      ],
      "execution_count": null,
      "outputs": [
        {
          "output_type": "execute_result",
          "data": {
            "text/plain": [
              "array([[ 8, 10, 12],\n",
              "       [14, 16, 18]])"
            ]
          },
          "metadata": {
            "tags": []
          },
          "execution_count": 165
        }
      ]
    },
    {
      "cell_type": "code",
      "metadata": {
        "colab": {
          "base_uri": "https://localhost:8080/"
        },
        "id": "ahGiIBV5wfNi",
        "outputId": "7479f6c2-6469-4e23-b8cb-b562bc9bb9a0"
      },
      "source": [
        "arr1 - arr2"
      ],
      "execution_count": null,
      "outputs": [
        {
          "output_type": "execute_result",
          "data": {
            "text/plain": [
              "array([[-6, -6, -6],\n",
              "       [-6, -6, -6]])"
            ]
          },
          "metadata": {
            "tags": []
          },
          "execution_count": 166
        }
      ]
    },
    {
      "cell_type": "code",
      "metadata": {
        "colab": {
          "base_uri": "https://localhost:8080/"
        },
        "id": "M7cykkuCwmVS",
        "outputId": "b37d22f9-466b-42c7-b745-49b0c6f3a53a"
      },
      "source": [
        "arr1 * arr2"
      ],
      "execution_count": null,
      "outputs": [
        {
          "output_type": "execute_result",
          "data": {
            "text/plain": [
              "array([[ 7, 16, 27],\n",
              "       [40, 55, 72]])"
            ]
          },
          "metadata": {
            "tags": []
          },
          "execution_count": 167
        }
      ]
    },
    {
      "cell_type": "code",
      "metadata": {
        "colab": {
          "base_uri": "https://localhost:8080/"
        },
        "id": "FaA8fZddwqkF",
        "outputId": "33a6cc80-584b-4f8a-cc12-bde36341b74f"
      },
      "source": [
        "arr1 / arr2"
      ],
      "execution_count": null,
      "outputs": [
        {
          "output_type": "execute_result",
          "data": {
            "text/plain": [
              "array([[0.14285714, 0.25      , 0.33333333],\n",
              "       [0.4       , 0.45454545, 0.5       ]])"
            ]
          },
          "metadata": {
            "tags": []
          },
          "execution_count": 168
        }
      ]
    },
    {
      "cell_type": "markdown",
      "metadata": {
        "id": "gYNhLVvYxTdC"
      },
      "source": [
        "\r\n",
        "브로드캐스트는 서로 크기가 다른 array가 연산이 가능하게끔 한다."
      ]
    },
    {
      "cell_type": "code",
      "metadata": {
        "colab": {
          "base_uri": "https://localhost:8080/"
        },
        "id": "bbwisy9MwuJ0",
        "outputId": "757546e9-9dae-415b-e36a-bc2f0b64cf61"
      },
      "source": [
        "arr1"
      ],
      "execution_count": null,
      "outputs": [
        {
          "output_type": "execute_result",
          "data": {
            "text/plain": [
              "array([[1, 2, 3],\n",
              "       [4, 5, 6]])"
            ]
          },
          "metadata": {
            "tags": []
          },
          "execution_count": 169
        }
      ]
    },
    {
      "cell_type": "code",
      "metadata": {
        "id": "YTud5yz2xbQ5"
      },
      "source": [
        "arr3 = np.array([10,11,12])"
      ],
      "execution_count": null,
      "outputs": []
    },
    {
      "cell_type": "code",
      "metadata": {
        "colab": {
          "base_uri": "https://localhost:8080/"
        },
        "id": "z68GnBMhxdda",
        "outputId": "7ede98b1-f5e1-4d74-8777-165d0927abe9"
      },
      "source": [
        "arr1 + arr3"
      ],
      "execution_count": null,
      "outputs": [
        {
          "output_type": "execute_result",
          "data": {
            "text/plain": [
              "array([[11, 13, 15],\n",
              "       [14, 16, 18]])"
            ]
          },
          "metadata": {
            "tags": []
          },
          "execution_count": 171
        }
      ]
    },
    {
      "cell_type": "markdown",
      "metadata": {
        "id": "lVYSIw5Ex3Yf"
      },
      "source": [
        "##인덱싱\r\n"
      ]
    },
    {
      "cell_type": "code",
      "metadata": {
        "id": "bhV-Po08yeTV"
      },
      "source": [
        "arr1 = np.array([1,2,3,4,5,6,7,8,9])"
      ],
      "execution_count": null,
      "outputs": []
    },
    {
      "cell_type": "code",
      "metadata": {
        "colab": {
          "base_uri": "https://localhost:8080/"
        },
        "id": "GshXSZ1qxf8p",
        "outputId": "74beb1f0-f60a-4eea-dfae-802f840a9ff5"
      },
      "source": [
        "# 3번째 요소부터 8번째 요소\r\n",
        "arr1[3:9]"
      ],
      "execution_count": null,
      "outputs": [
        {
          "output_type": "execute_result",
          "data": {
            "text/plain": [
              "array([4, 5, 6, 7, 8, 9])"
            ]
          },
          "metadata": {
            "tags": []
          },
          "execution_count": 173
        }
      ]
    },
    {
      "cell_type": "code",
      "metadata": {
        "id": "-kcwFan_yIey"
      },
      "source": [
        "arr2 = np.array([[1,2,3,4],\r\n",
        "                 [5,6,7,8],\r\n",
        "                 [9,10,11,12]])"
      ],
      "execution_count": null,
      "outputs": []
    },
    {
      "cell_type": "code",
      "metadata": {
        "colab": {
          "base_uri": "https://localhost:8080/"
        },
        "id": "tKFyAZAIyTWG",
        "outputId": "5d9e22ab-5a86-41a2-acbf-f6f5150f6bc4"
      },
      "source": [
        "# 2행의 모든 요소 꺼내기\r\n",
        "arr2[2,:]"
      ],
      "execution_count": null,
      "outputs": [
        {
          "output_type": "execute_result",
          "data": {
            "text/plain": [
              "array([ 9, 10, 11, 12])"
            ]
          },
          "metadata": {
            "tags": []
          },
          "execution_count": 175
        }
      ]
    },
    {
      "cell_type": "markdown",
      "metadata": {
        "id": "Q4m312npytop"
      },
      "source": [
        "##Array Boolean 인덱싱(마스크)"
      ]
    },
    {
      "cell_type": "markdown",
      "metadata": {
        "id": "iaWHq2lGATB4"
      },
      "source": [
        "boolean 인덱싱을 통해 만들어낸 array로 우리가 원하는 행 또는 열 값만 뽑아낼 수 있다. 가리고 싶으 부분은 가리고, 원하는 요소만 꺼낸다."
      ]
    },
    {
      "cell_type": "code",
      "metadata": {
        "colab": {
          "base_uri": "https://localhost:8080/"
        },
        "id": "zxP6P2ShyaT9",
        "outputId": "206aed7f-4fe4-44c5-c741-9291eb19959a"
      },
      "source": [
        "# 정규분포 N(0,1)를 따르는 난수를 발생시키는 함수다.\r\n",
        "data = np.random.randn(8,4)\r\n",
        "data"
      ],
      "execution_count": null,
      "outputs": [
        {
          "output_type": "execute_result",
          "data": {
            "text/plain": [
              "array([[-0.62435695,  1.7214432 , -0.14486191,  0.04648889],\n",
              "       [ 2.96501886, -0.27557597, -0.59234196, -0.13497366],\n",
              "       [-0.17957264, -1.85473161,  1.01475547,  0.11451005],\n",
              "       [-0.69835015,  1.97688795, -0.76497501,  1.66612821],\n",
              "       [-0.70326198,  0.19184272,  0.64765109, -0.72503809],\n",
              "       [-0.80213329, -0.1004649 ,  1.91014042,  1.81611814],\n",
              "       [ 0.23758798,  1.08585302, -0.82632829, -0.57486972],\n",
              "       [ 0.20522172,  2.49934163, -0.06334064, -1.25325972]])"
            ]
          },
          "metadata": {
            "tags": []
          },
          "execution_count": 106
        }
      ]
    },
    {
      "cell_type": "code",
      "metadata": {
        "colab": {
          "base_uri": "https://localhost:8080/"
        },
        "id": "bRmqotHl0eFE",
        "outputId": "39ac295a-65d5-4a83-ec52-e6d1d35e8f52"
      },
      "source": [
        "names = np.array(['Beomwoo','Beomwoo', 'Kim', 'Joan', 'Lee', 'Beomwoo', 'Park', 'Beomwo'])\r\n",
        "names"
      ],
      "execution_count": null,
      "outputs": [
        {
          "output_type": "execute_result",
          "data": {
            "text/plain": [
              "array(['Beomwoo', 'Beomwoo', 'Kim', 'Joan', 'Lee', 'Beomwoo', 'Park',\n",
              "       'Beomwo'], dtype='<U7')"
            ]
          },
          "metadata": {
            "tags": []
          },
          "execution_count": 107
        }
      ]
    },
    {
      "cell_type": "markdown",
      "metadata": {
        "id": "PbbPVLWN3WZa"
      },
      "source": [
        "names와 data라는 array가 있다. 이때, names의 각 요소가 data의 각 행과 연결된다고 가정하자."
      ]
    },
    {
      "cell_type": "code",
      "metadata": {
        "colab": {
          "base_uri": "https://localhost:8080/"
        },
        "id": "InV7M8B0z8p1",
        "outputId": "81419a30-6271-4b4e-a8be-5521e6a8273c"
      },
      "source": [
        "# 요소가 Beomwoo인 항목에 대한 mask 생성\r\n",
        "names_Beomwoo_mask = (names == 'Beomwoo')\r\n",
        "names_Beomwoo_mask"
      ],
      "execution_count": null,
      "outputs": [
        {
          "output_type": "execute_result",
          "data": {
            "text/plain": [
              "array([ True,  True, False, False, False,  True, False, False])"
            ]
          },
          "metadata": {
            "tags": []
          },
          "execution_count": 108
        }
      ]
    },
    {
      "cell_type": "code",
      "metadata": {
        "colab": {
          "base_uri": "https://localhost:8080/"
        },
        "id": "-E3kY8ad2Dq8",
        "outputId": "36244eff-048a-4b3e-879c-a94aafd42adc"
      },
      "source": [
        "# 요소가 Kim인 행의 데이터만 꺼내기\r\n",
        "data[names == 'Kim',:]"
      ],
      "execution_count": null,
      "outputs": [
        {
          "output_type": "execute_result",
          "data": {
            "text/plain": [
              "array([[-0.17957264, -1.85473161,  1.01475547,  0.11451005]])"
            ]
          },
          "metadata": {
            "tags": []
          },
          "execution_count": 109
        }
      ]
    },
    {
      "cell_type": "code",
      "metadata": {
        "colab": {
          "base_uri": "https://localhost:8080/"
        },
        "id": "cFkDDpyA2S3-",
        "outputId": "4e61dda1-452f-42e0-fcb4-003db1c12d3f"
      },
      "source": [
        "# 논리 연산으로, 요소가 Kim 또는 Park인 행의 데이터만 꺼내기\r\n",
        "data[(names == 'Kim') | (names == 'Park'),:]"
      ],
      "execution_count": null,
      "outputs": [
        {
          "output_type": "execute_result",
          "data": {
            "text/plain": [
              "array([[-0.17957264, -1.85473161,  1.01475547,  0.11451005],\n",
              "       [ 0.23758798,  1.08585302, -0.82632829, -0.57486972]])"
            ]
          },
          "metadata": {
            "tags": []
          },
          "execution_count": 110
        }
      ]
    },
    {
      "cell_type": "code",
      "metadata": {
        "colab": {
          "base_uri": "https://localhost:8080/"
        },
        "id": "TH0ch0lv4Krz",
        "outputId": "522da9c1-043d-405f-8d8b-6d7909aea674"
      },
      "source": [
        "# data에서 0번째 열이 0보다 작은 요소의 boolean 값\r\n",
        "data[:,0] < 0"
      ],
      "execution_count": null,
      "outputs": [
        {
          "output_type": "execute_result",
          "data": {
            "text/plain": [
              "array([ True, False,  True,  True,  True,  True, False, False])"
            ]
          },
          "metadata": {
            "tags": []
          },
          "execution_count": 111
        }
      ]
    },
    {
      "cell_type": "code",
      "metadata": {
        "colab": {
          "base_uri": "https://localhost:8080/"
        },
        "id": "ILij6hON4UZ7",
        "outputId": "e2da6308-ace8-41e9-e978-6f72300c4a22"
      },
      "source": [
        "# 위에서 True를 반환한 행만 출력\r\n",
        "data[data[:,0]<0, :]"
      ],
      "execution_count": null,
      "outputs": [
        {
          "output_type": "execute_result",
          "data": {
            "text/plain": [
              "array([[-0.62435695,  1.7214432 , -0.14486191,  0.04648889],\n",
              "       [-0.17957264, -1.85473161,  1.01475547,  0.11451005],\n",
              "       [-0.69835015,  1.97688795, -0.76497501,  1.66612821],\n",
              "       [-0.70326198,  0.19184272,  0.64765109, -0.72503809],\n",
              "       [-0.80213329, -0.1004649 ,  1.91014042,  1.81611814]])"
            ]
          },
          "metadata": {
            "tags": []
          },
          "execution_count": 112
        }
      ]
    },
    {
      "cell_type": "code",
      "metadata": {
        "colab": {
          "base_uri": "https://localhost:8080/"
        },
        "id": "le6dev-K4qj_",
        "outputId": "21a9fd8c-ce26-4cf1-ecbc-a09677931759"
      },
      "source": [
        "# data에서 0번째 열이 0보다 작은 행의 2,3번째 열 값\r\n",
        "data[data[:,0]<0 , 2:4]"
      ],
      "execution_count": null,
      "outputs": [
        {
          "output_type": "execute_result",
          "data": {
            "text/plain": [
              "array([[-0.14486191,  0.04648889],\n",
              "       [ 1.01475547,  0.11451005],\n",
              "       [-0.76497501,  1.66612821],\n",
              "       [ 0.64765109, -0.72503809],\n",
              "       [ 1.91014042,  1.81611814]])"
            ]
          },
          "metadata": {
            "tags": []
          },
          "execution_count": 113
        }
      ]
    },
    {
      "cell_type": "markdown",
      "metadata": {
        "id": "oKaxffXH5t78"
      },
      "source": [
        "## Numpy 함수"
      ]
    },
    {
      "cell_type": "markdown",
      "metadata": {
        "id": "LiUfiNHs8R-K"
      },
      "source": [
        "####(1) 한 개의 array에 적용"
      ]
    },
    {
      "cell_type": "code",
      "metadata": {
        "colab": {
          "base_uri": "https://localhost:8080/"
        },
        "id": "X4fEymwO5E1b",
        "outputId": "3f9472c1-be4c-4094-8af5-02e1a4771585"
      },
      "source": [
        "arr1 = np.random.randn(5,3)\r\n",
        "arr1"
      ],
      "execution_count": null,
      "outputs": [
        {
          "output_type": "execute_result",
          "data": {
            "text/plain": [
              "array([[-0.94142426, -0.46684043,  0.23395613],\n",
              "       [-1.6645963 , -0.27197482,  0.65721529],\n",
              "       [ 0.41227298,  0.30340722,  0.90849282],\n",
              "       [-0.90383367, -1.51069495,  0.23518625],\n",
              "       [-0.82967765, -0.72305704, -0.02220675]])"
            ]
          },
          "metadata": {
            "tags": []
          },
          "execution_count": 114
        }
      ]
    },
    {
      "cell_type": "markdown",
      "metadata": {
        "id": "Dt9y12fb6rrV"
      },
      "source": [
        "아래는 각 성분의 절대값, 제곱근, 제곱, e의 지수로 삼은 값을 계산한 것이다."
      ]
    },
    {
      "cell_type": "code",
      "metadata": {
        "colab": {
          "base_uri": "https://localhost:8080/"
        },
        "id": "MqzMOLUw5iBg",
        "outputId": "d7ca4cf4-c55e-40ac-d5c9-3cdf393e5471"
      },
      "source": [
        "np.abs(arr1)"
      ],
      "execution_count": null,
      "outputs": [
        {
          "output_type": "execute_result",
          "data": {
            "text/plain": [
              "array([[0.94142426, 0.46684043, 0.23395613],\n",
              "       [1.6645963 , 0.27197482, 0.65721529],\n",
              "       [0.41227298, 0.30340722, 0.90849282],\n",
              "       [0.90383367, 1.51069495, 0.23518625],\n",
              "       [0.82967765, 0.72305704, 0.02220675]])"
            ]
          },
          "metadata": {
            "tags": []
          },
          "execution_count": 115
        }
      ]
    },
    {
      "cell_type": "code",
      "metadata": {
        "colab": {
          "base_uri": "https://localhost:8080/"
        },
        "id": "BRREng2V53Ug",
        "outputId": "1712a7c0-7e60-42c3-9589-f0dbd79cfcd4"
      },
      "source": [
        "np.sqrt(arr1)"
      ],
      "execution_count": null,
      "outputs": [
        {
          "output_type": "stream",
          "text": [
            "/usr/local/lib/python3.6/dist-packages/ipykernel_launcher.py:1: RuntimeWarning: invalid value encountered in sqrt\n",
            "  \"\"\"Entry point for launching an IPython kernel.\n"
          ],
          "name": "stderr"
        },
        {
          "output_type": "execute_result",
          "data": {
            "text/plain": [
              "array([[       nan,        nan, 0.48369012],\n",
              "       [       nan,        nan, 0.81068816],\n",
              "       [0.64208487, 0.55082413, 0.9531489 ],\n",
              "       [       nan,        nan, 0.48496005],\n",
              "       [       nan,        nan,        nan]])"
            ]
          },
          "metadata": {
            "tags": []
          },
          "execution_count": 116
        }
      ]
    },
    {
      "cell_type": "code",
      "metadata": {
        "colab": {
          "base_uri": "https://localhost:8080/"
        },
        "id": "STSeJcB-6Ga3",
        "outputId": "331f9783-780d-4b5f-ed70-219ae17c2bb9"
      },
      "source": [
        "np.square(arr1)"
      ],
      "execution_count": null,
      "outputs": [
        {
          "output_type": "execute_result",
          "data": {
            "text/plain": [
              "array([[8.86279636e-01, 2.17939990e-01, 5.47354706e-02],\n",
              "       [2.77088083e+00, 7.39703040e-02, 4.31931940e-01],\n",
              "       [1.69969012e-01, 9.20559402e-02, 8.25359211e-01],\n",
              "       [8.16915306e-01, 2.28219922e+00, 5.53125732e-02],\n",
              "       [6.88364999e-01, 5.22811484e-01, 4.93139927e-04]])"
            ]
          },
          "metadata": {
            "tags": []
          },
          "execution_count": 117
        }
      ]
    },
    {
      "cell_type": "code",
      "metadata": {
        "colab": {
          "base_uri": "https://localhost:8080/"
        },
        "id": "KnbG9QtJ6JAZ",
        "outputId": "e24bafa5-8136-433a-d33f-324d019df080"
      },
      "source": [
        "np.exp(arr1)"
      ],
      "execution_count": null,
      "outputs": [
        {
          "output_type": "execute_result",
          "data": {
            "text/plain": [
              "array([[0.39007188, 0.62698013, 1.26358906],\n",
              "       [0.18926705, 0.76187344, 1.929412  ],\n",
              "       [1.51024665, 1.35446592, 2.48058104],\n",
              "       [0.40501399, 0.22075651, 1.26514438],\n",
              "       [0.43618987, 0.48526651, 0.978038  ]])"
            ]
          },
          "metadata": {
            "tags": []
          },
          "execution_count": 118
        }
      ]
    },
    {
      "cell_type": "markdown",
      "metadata": {
        "id": "VU37Owqg6S1P"
      },
      "source": [
        "아래는 각 성분을 자연로그, 사용로그, 밑이 2인 로그에 씌운 값을 계산한 것이다."
      ]
    },
    {
      "cell_type": "code",
      "metadata": {
        "colab": {
          "base_uri": "https://localhost:8080/"
        },
        "id": "FbqkJuOs6Ki6",
        "outputId": "0c9db37c-50ac-4ea4-db74-566c43793d02"
      },
      "source": [
        "np.log(arr1)"
      ],
      "execution_count": null,
      "outputs": [
        {
          "output_type": "stream",
          "text": [
            "/usr/local/lib/python3.6/dist-packages/ipykernel_launcher.py:1: RuntimeWarning: invalid value encountered in log\n",
            "  \"\"\"Entry point for launching an IPython kernel.\n"
          ],
          "name": "stderr"
        },
        {
          "output_type": "execute_result",
          "data": {
            "text/plain": [
              "array([[        nan,         nan, -1.45262166],\n",
              "       [        nan,         nan, -0.41974363],\n",
              "       [-0.88606957, -1.19267942, -0.09596829],\n",
              "       [        nan,         nan, -1.44737752],\n",
              "       [        nan,         nan,         nan]])"
            ]
          },
          "metadata": {
            "tags": []
          },
          "execution_count": 119
        }
      ]
    },
    {
      "cell_type": "code",
      "metadata": {
        "colab": {
          "base_uri": "https://localhost:8080/"
        },
        "id": "5deWAOFk6bFs",
        "outputId": "f5c44959-7cd1-4e27-f9e0-47163129fb25"
      },
      "source": [
        "np.log10(arr1)"
      ],
      "execution_count": null,
      "outputs": [
        {
          "output_type": "stream",
          "text": [
            "/usr/local/lib/python3.6/dist-packages/ipykernel_launcher.py:1: RuntimeWarning: invalid value encountered in log10\n",
            "  \"\"\"Entry point for launching an IPython kernel.\n"
          ],
          "name": "stderr"
        },
        {
          "output_type": "execute_result",
          "data": {
            "text/plain": [
              "array([[        nan,         nan, -0.63086557],\n",
              "       [        nan,         nan, -0.18229234],\n",
              "       [-0.38481513, -0.51797409, -0.0416785 ],\n",
              "       [        nan,         nan, -0.62858807],\n",
              "       [        nan,         nan,         nan]])"
            ]
          },
          "metadata": {
            "tags": []
          },
          "execution_count": 120
        }
      ]
    },
    {
      "cell_type": "code",
      "metadata": {
        "colab": {
          "base_uri": "https://localhost:8080/"
        },
        "id": "sGfiqDUv6dWr",
        "outputId": "dba10174-04f3-4c79-9522-45378dd4ef3f"
      },
      "source": [
        "np.log2(arr1)"
      ],
      "execution_count": null,
      "outputs": [
        {
          "output_type": "stream",
          "text": [
            "/usr/local/lib/python3.6/dist-packages/ipykernel_launcher.py:1: RuntimeWarning: invalid value encountered in log2\n",
            "  \"\"\"Entry point for launching an IPython kernel.\n"
          ],
          "name": "stderr"
        },
        {
          "output_type": "execute_result",
          "data": {
            "text/plain": [
              "array([[        nan,         nan, -2.09569007],\n",
              "       [        nan,         nan, -0.60556205],\n",
              "       [-1.27832818, -1.72067269, -0.13845298],\n",
              "       [        nan,         nan, -2.08812437],\n",
              "       [        nan,         nan,         nan]])"
            ]
          },
          "metadata": {
            "tags": []
          },
          "execution_count": 121
        }
      ]
    },
    {
      "cell_type": "code",
      "metadata": {
        "colab": {
          "base_uri": "https://localhost:8080/"
        },
        "id": "bYgCIphg6jRd",
        "outputId": "065a7804-253a-4a5d-ecf7-88caa4a5b31c"
      },
      "source": [
        "# 각 성분의 부호 계산 (+는 1, -는 -1, 0은 0)\r\n",
        "np.sign(arr1)"
      ],
      "execution_count": null,
      "outputs": [
        {
          "output_type": "execute_result",
          "data": {
            "text/plain": [
              "array([[-1., -1.,  1.],\n",
              "       [-1., -1.,  1.],\n",
              "       [ 1.,  1.,  1.],\n",
              "       [-1., -1.,  1.],\n",
              "       [-1., -1., -1.]])"
            ]
          },
          "metadata": {
            "tags": []
          },
          "execution_count": 122
        }
      ]
    },
    {
      "cell_type": "markdown",
      "metadata": {
        "id": "ey2bNR517IXf"
      },
      "source": [
        "각 성분의 소수 첫 번째 자리에서 올림, 내림한 값을 계산한 것이다."
      ]
    },
    {
      "cell_type": "code",
      "metadata": {
        "colab": {
          "base_uri": "https://localhost:8080/"
        },
        "id": "EJxHFLY96-Bw",
        "outputId": "36f5f755-0705-477b-db9f-ec6559d9170d"
      },
      "source": [
        "np.ceil(arr1)"
      ],
      "execution_count": null,
      "outputs": [
        {
          "output_type": "execute_result",
          "data": {
            "text/plain": [
              "array([[-0., -0.,  1.],\n",
              "       [-1., -0.,  1.],\n",
              "       [ 1.,  1.,  1.],\n",
              "       [-0., -1.,  1.],\n",
              "       [-0., -0., -0.]])"
            ]
          },
          "metadata": {
            "tags": []
          },
          "execution_count": 125
        }
      ]
    },
    {
      "cell_type": "code",
      "metadata": {
        "colab": {
          "base_uri": "https://localhost:8080/"
        },
        "id": "qXc-RK8b7E32",
        "outputId": "f922252b-b4b7-45c4-8e1e-17e7e1ba4152"
      },
      "source": [
        "np.floor(arr1)"
      ],
      "execution_count": null,
      "outputs": [
        {
          "output_type": "execute_result",
          "data": {
            "text/plain": [
              "array([[-1., -1.,  0.],\n",
              "       [-2., -1.,  0.],\n",
              "       [ 0.,  0.,  0.],\n",
              "       [-1., -2.,  0.],\n",
              "       [-1., -1., -1.]])"
            ]
          },
          "metadata": {
            "tags": []
          },
          "execution_count": 126
        }
      ]
    },
    {
      "cell_type": "code",
      "metadata": {
        "colab": {
          "base_uri": "https://localhost:8080/"
        },
        "id": "AxCfuHme7PO_",
        "outputId": "cbdbb531-00fd-4e20-d33e-5bda62d1329a"
      },
      "source": [
        "# 각 성분이 무한대인 경우 True, 아닌 경우 False 반환\r\n",
        "np.isinf(arr1)"
      ],
      "execution_count": null,
      "outputs": [
        {
          "output_type": "execute_result",
          "data": {
            "text/plain": [
              "array([[False, False, False],\n",
              "       [False, False, False],\n",
              "       [False, False, False],\n",
              "       [False, False, False],\n",
              "       [False, False, False]])"
            ]
          },
          "metadata": {
            "tags": []
          },
          "execution_count": 127
        }
      ]
    },
    {
      "cell_type": "markdown",
      "metadata": {
        "id": "X3ZtUCG47v4H"
      },
      "source": [
        "각 성분에 대해 삼각함수 값 계산하기(cos, cosh, sin, sinh, tan, tanh)"
      ]
    },
    {
      "cell_type": "code",
      "metadata": {
        "colab": {
          "base_uri": "https://localhost:8080/"
        },
        "id": "suL3tdPu7rk2",
        "outputId": "cd2a9b71-23a2-40b3-a9e4-ce0d94735d2b"
      },
      "source": [
        "np.cos(arr1)"
      ],
      "execution_count": null,
      "outputs": [
        {
          "output_type": "execute_result",
          "data": {
            "text/plain": [
              "array([[ 0.58863726,  0.89299476,  0.97275687],\n",
              "       [-0.09366248,  0.96324227,  0.79169652],\n",
              "       [ 0.91621242,  0.95432404,  0.61493497],\n",
              "       [ 0.61860239,  0.0600652 ,  0.97247096],\n",
              "       [ 0.6751136 ,  0.74978645,  0.99975344]])"
            ]
          },
          "metadata": {
            "tags": []
          },
          "execution_count": 128
        }
      ]
    },
    {
      "cell_type": "code",
      "metadata": {
        "colab": {
          "base_uri": "https://localhost:8080/"
        },
        "id": "6rx38NyL7vRf",
        "outputId": "e100c914-ba74-48ca-ac13-e268fab71e6a"
      },
      "source": [
        "np.tanh(arr1) #tanh는 활성화 함수 중 하나다."
      ],
      "execution_count": null,
      "outputs": [
        {
          "output_type": "execute_result",
          "data": {
            "text/plain": [
              "array([[-0.73587594, -0.43564291,  0.22977899],\n",
              "       [-0.93083365, -0.26546145,  0.57650722],\n",
              "       [ 0.39040094,  0.29442758,  0.72040807],\n",
              "       [-0.71815943, -0.9070623 ,  0.23094384],\n",
              "       [-0.68030288, -0.61879933, -0.0222031 ]])"
            ]
          },
          "metadata": {
            "tags": []
          },
          "execution_count": 130
        }
      ]
    },
    {
      "cell_type": "code",
      "metadata": {
        "id": "41cid2ny75xy"
      },
      "source": [
        ""
      ],
      "execution_count": null,
      "outputs": []
    },
    {
      "cell_type": "markdown",
      "metadata": {
        "id": "0FxIgcF_8XRR"
      },
      "source": [
        "####(2) 두 개의 array에 적용"
      ]
    },
    {
      "cell_type": "code",
      "metadata": {
        "colab": {
          "base_uri": "https://localhost:8080/"
        },
        "id": "6BSWF08v8ajt",
        "outputId": "85349c8b-5107-42a0-fbe7-178e332cd48b"
      },
      "source": [
        "arr1"
      ],
      "execution_count": null,
      "outputs": [
        {
          "output_type": "execute_result",
          "data": {
            "text/plain": [
              "array([[-0.94142426, -0.46684043,  0.23395613],\n",
              "       [-1.6645963 , -0.27197482,  0.65721529],\n",
              "       [ 0.41227298,  0.30340722,  0.90849282],\n",
              "       [-0.90383367, -1.51069495,  0.23518625],\n",
              "       [-0.82967765, -0.72305704, -0.02220675]])"
            ]
          },
          "metadata": {
            "tags": []
          },
          "execution_count": 131
        }
      ]
    },
    {
      "cell_type": "code",
      "metadata": {
        "colab": {
          "base_uri": "https://localhost:8080/"
        },
        "id": "7k55Y8j18cGm",
        "outputId": "b350f7a5-2752-4b69-9349-2ad63d2f346a"
      },
      "source": [
        "arr2 = np.random.randn(5,3)\r\n",
        "arr2"
      ],
      "execution_count": null,
      "outputs": [
        {
          "output_type": "execute_result",
          "data": {
            "text/plain": [
              "array([[-1.13542995, -0.4371222 ,  1.5190072 ],\n",
              "       [ 1.26958513, -0.47652618,  0.96282573],\n",
              "       [-0.95251205, -0.27308992,  0.61880512],\n",
              "       [ 0.99047574,  1.2542814 , -0.00767295],\n",
              "       [-0.62039975,  0.73360213,  0.70201573]])"
            ]
          },
          "metadata": {
            "tags": []
          },
          "execution_count": 134
        }
      ]
    },
    {
      "cell_type": "code",
      "metadata": {
        "colab": {
          "base_uri": "https://localhost:8080/"
        },
        "id": "0GS4a9VF8fWO",
        "outputId": "45cc076d-beed-4340-d945-dcd4d27f2a67"
      },
      "source": [
        "# 동일한 위치의 성분끼리 연산한 값 (add, subtract, multiply, divide)\r\n",
        "np.multiply(arr1, arr2)"
      ],
      "execution_count": null,
      "outputs": [
        {
          "output_type": "execute_result",
          "data": {
            "text/plain": [
              "array([[ 1.06892130e+00,  2.04066316e-01,  3.55381046e-01],\n",
              "       [-2.11334670e+00,  1.29603123e-01,  6.32783791e-01],\n",
              "       [-3.92694983e-01, -8.28574529e-02,  5.62180014e-01],\n",
              "       [-8.95225321e-01, -1.89483657e+00, -1.80457222e-03],\n",
              "       [ 5.14731804e-01, -5.30436183e-01, -1.55894906e-02]])"
            ]
          },
          "metadata": {
            "tags": []
          },
          "execution_count": 135
        }
      ]
    },
    {
      "cell_type": "code",
      "metadata": {
        "colab": {
          "base_uri": "https://localhost:8080/"
        },
        "id": "531NmS2a8w-E",
        "outputId": "5942b669-8f42-43a6-be6b-89713249df5a"
      },
      "source": [
        "# 동일한 위치의 성분끼리 비교한 값 (maximum, minimum)\r\n",
        "np.maximum(arr1,arr2)"
      ],
      "execution_count": null,
      "outputs": [
        {
          "output_type": "execute_result",
          "data": {
            "text/plain": [
              "array([[-0.94142426, -0.4371222 ,  1.5190072 ],\n",
              "       [ 1.26958513, -0.27197482,  0.96282573],\n",
              "       [ 0.41227298,  0.30340722,  0.90849282],\n",
              "       [ 0.99047574,  1.2542814 ,  0.23518625],\n",
              "       [-0.62039975,  0.73360213,  0.70201573]])"
            ]
          },
          "metadata": {
            "tags": []
          },
          "execution_count": 137
        }
      ]
    },
    {
      "cell_type": "code",
      "metadata": {
        "id": "YYthxmYX82rn"
      },
      "source": [
        ""
      ],
      "execution_count": null,
      "outputs": []
    },
    {
      "cell_type": "markdown",
      "metadata": {
        "id": "9YarKe3e8-CB"
      },
      "source": [
        "####(3) 통계 함수"
      ]
    },
    {
      "cell_type": "markdown",
      "metadata": {
        "id": "fXnppurN-U5q"
      },
      "source": [
        "통계 함수를 통해 array의 합, 평균 등을 구할 때, axis 라는 인자에 대한 값을 지정하여 열 또는 행의 합, 평균을 구할 수 있다.\r\n",
        "\r\n",
        "column(y): axis=1, depth(z): axis=2, row(x): axis=0"
      ]
    },
    {
      "cell_type": "code",
      "metadata": {
        "colab": {
          "base_uri": "https://localhost:8080/"
        },
        "id": "tPxeYUJI_YD9",
        "outputId": "e1a4d54b-a0eb-41a1-8221-fe26564dc043"
      },
      "source": [
        "arr1"
      ],
      "execution_count": null,
      "outputs": [
        {
          "output_type": "execute_result",
          "data": {
            "text/plain": [
              "array([[-0.94142426, -0.46684043,  0.23395613],\n",
              "       [-1.6645963 , -0.27197482,  0.65721529],\n",
              "       [ 0.41227298,  0.30340722,  0.90849282],\n",
              "       [-0.90383367, -1.51069495,  0.23518625],\n",
              "       [-0.82967765, -0.72305704, -0.02220675]])"
            ]
          },
          "metadata": {
            "tags": []
          },
          "execution_count": 152
        }
      ]
    },
    {
      "cell_type": "code",
      "metadata": {
        "colab": {
          "base_uri": "https://localhost:8080/"
        },
        "id": "ek-9Rp0z9AXU",
        "outputId": "99d16364-27a6-4ac3-aeb6-82801ccb0595"
      },
      "source": [
        "# 전체 성분의 합\r\n",
        "np.sum(arr1)"
      ],
      "execution_count": null,
      "outputs": [
        {
          "output_type": "execute_result",
          "data": {
            "text/plain": [
              "-4.58377517370648"
            ]
          },
          "metadata": {
            "tags": []
          },
          "execution_count": 138
        }
      ]
    },
    {
      "cell_type": "code",
      "metadata": {
        "colab": {
          "base_uri": "https://localhost:8080/"
        },
        "id": "ax8Bhwhx9r4M",
        "outputId": "8bdf89a2-62c5-42f4-b2d8-32f0a557c3e1"
      },
      "source": [
        "# 열 간의 합\r\n",
        "np.sum(arr1, axis=1)"
      ],
      "execution_count": null,
      "outputs": [
        {
          "output_type": "execute_result",
          "data": {
            "text/plain": [
              "array([-1.17430856, -1.27935583,  1.62417302, -2.17934237, -1.57494144])"
            ]
          },
          "metadata": {
            "tags": []
          },
          "execution_count": 139
        }
      ]
    },
    {
      "cell_type": "code",
      "metadata": {
        "colab": {
          "base_uri": "https://localhost:8080/"
        },
        "id": "E77uGNYC90F4",
        "outputId": "4962c051-02ff-49cb-f4c6-673bbe15c814"
      },
      "source": [
        "# 행 간의 합\r\n",
        "np.sum(arr1, axis=0)"
      ],
      "execution_count": null,
      "outputs": [
        {
          "output_type": "execute_result",
          "data": {
            "text/plain": [
              "array([-3.92725889, -2.66916002,  2.01264374])"
            ]
          },
          "metadata": {
            "tags": []
          },
          "execution_count": 140
        }
      ]
    },
    {
      "cell_type": "code",
      "metadata": {
        "colab": {
          "base_uri": "https://localhost:8080/"
        },
        "id": "2XDx66SY984j",
        "outputId": "23cd5c84-1088-480e-a8ea-54f86592e38d"
      },
      "source": [
        "# 전체 성분의 평균\r\n",
        "np.mean(arr1)"
      ],
      "execution_count": null,
      "outputs": [
        {
          "output_type": "execute_result",
          "data": {
            "text/plain": [
              "-0.305585011580432"
            ]
          },
          "metadata": {
            "tags": []
          },
          "execution_count": 141
        }
      ]
    },
    {
      "cell_type": "code",
      "metadata": {
        "colab": {
          "base_uri": "https://localhost:8080/"
        },
        "id": "AsnZ8YuU-CNW",
        "outputId": "58ae0456-bfdb-4fa9-a843-b704b307ee40"
      },
      "source": [
        "# 열 간의 평균\r\n",
        "np.mean(arr1, axis=1)"
      ],
      "execution_count": null,
      "outputs": [
        {
          "output_type": "execute_result",
          "data": {
            "text/plain": [
              "array([-0.39143619, -0.42645194,  0.54139101, -0.72644746, -0.52498048])"
            ]
          },
          "metadata": {
            "tags": []
          },
          "execution_count": 142
        }
      ]
    },
    {
      "cell_type": "code",
      "metadata": {
        "colab": {
          "base_uri": "https://localhost:8080/"
        },
        "id": "mxtJcAJ--I03",
        "outputId": "1d18425b-4509-4db9-8c43-95d42345dcff"
      },
      "source": [
        "# 행 간의 평균\r\n",
        "np.mean(arr1, axis=0)"
      ],
      "execution_count": null,
      "outputs": [
        {
          "output_type": "execute_result",
          "data": {
            "text/plain": [
              "array([-0.78545178, -0.533832  ,  0.40252875])"
            ]
          },
          "metadata": {
            "tags": []
          },
          "execution_count": 143
        }
      ]
    },
    {
      "cell_type": "markdown",
      "metadata": {
        "id": "S0HfHAGI-gBo"
      },
      "source": [
        "전체 성분의 표준편차, 분산, 최소값, 최대값 계산(std, var, min, max)"
      ]
    },
    {
      "cell_type": "code",
      "metadata": {
        "colab": {
          "base_uri": "https://localhost:8080/"
        },
        "id": "ZtYpwRa5-MxI",
        "outputId": "aea96a58-e27e-4497-9e3e-764698f06c64"
      },
      "source": [
        "np.std(arr1)"
      ],
      "execution_count": null,
      "outputs": [
        {
          "output_type": "execute_result",
          "data": {
            "text/plain": [
              "0.7522626343243121"
            ]
          },
          "metadata": {
            "tags": []
          },
          "execution_count": 144
        }
      ]
    },
    {
      "cell_type": "code",
      "metadata": {
        "colab": {
          "base_uri": "https://localhost:8080/"
        },
        "id": "rBGQwdLK-na2",
        "outputId": "d4f57543-30be-43cc-a137-8939fd06a8b5"
      },
      "source": [
        "np.min(arr1, axis=1)"
      ],
      "execution_count": null,
      "outputs": [
        {
          "output_type": "execute_result",
          "data": {
            "text/plain": [
              "array([-0.94142426, -1.6645963 ,  0.30340722, -1.51069495, -0.82967765])"
            ]
          },
          "metadata": {
            "tags": []
          },
          "execution_count": 145
        }
      ]
    },
    {
      "cell_type": "code",
      "metadata": {
        "colab": {
          "base_uri": "https://localhost:8080/"
        },
        "id": "CkbmQU_d-ufk",
        "outputId": "83699a30-543c-436f-a4c9-204fa89d92f9"
      },
      "source": [
        "# 전체 성분의 최소값, 최대값이 위치한 인덱스를 반환(argmin, argmax)\r\n",
        "np.argmax(arr1, axis=0)"
      ],
      "execution_count": null,
      "outputs": [
        {
          "output_type": "execute_result",
          "data": {
            "text/plain": [
              "array([2, 2, 2])"
            ]
          },
          "metadata": {
            "tags": []
          },
          "execution_count": 148
        }
      ]
    },
    {
      "cell_type": "code",
      "metadata": {
        "colab": {
          "base_uri": "https://localhost:8080/"
        },
        "id": "p3MtAdpX-1Sj",
        "outputId": "4fa4debf-db36-405d-8b34-fca6be311833"
      },
      "source": [
        "# 전체 성분의 누적합, 누적곱을 계산(cumsum, cumrod)\r\n",
        "np.cumsum(arr1)"
      ],
      "execution_count": null,
      "outputs": [
        {
          "output_type": "execute_result",
          "data": {
            "text/plain": [
              "array([-0.94142426, -1.40826469, -1.17430856, -2.83890486, -3.11087968,\n",
              "       -2.45366439, -2.04139141, -1.73798419, -0.82949136, -1.73332504,\n",
              "       -3.24401998, -3.00883373, -3.83851138, -4.56156842, -4.58377517])"
            ]
          },
          "metadata": {
            "tags": []
          },
          "execution_count": 151
        }
      ]
    },
    {
      "cell_type": "markdown",
      "metadata": {
        "id": "Wn_yh-JR_fuM"
      },
      "source": [
        "####(4) 기타 함수"
      ]
    },
    {
      "cell_type": "markdown",
      "metadata": {
        "id": "zeWAqoL4_u0L"
      },
      "source": [
        "sort는 작은 수부터 큰 순으로 정렬한다"
      ]
    },
    {
      "cell_type": "code",
      "metadata": {
        "colab": {
          "base_uri": "https://localhost:8080/"
        },
        "id": "CnR8PZyQ_0nT",
        "outputId": "1d51eae6-f6a8-4b8e-c3c9-b7dc2570e4b4"
      },
      "source": [
        "arr1"
      ],
      "execution_count": null,
      "outputs": [
        {
          "output_type": "execute_result",
          "data": {
            "text/plain": [
              "array([[-0.94142426, -0.46684043,  0.23395613],\n",
              "       [-1.6645963 , -0.27197482,  0.65721529],\n",
              "       [ 0.41227298,  0.30340722,  0.90849282],\n",
              "       [-0.90383367, -1.51069495,  0.23518625],\n",
              "       [-0.82967765, -0.72305704, -0.02220675]])"
            ]
          },
          "metadata": {
            "tags": []
          },
          "execution_count": 154
        }
      ]
    },
    {
      "cell_type": "code",
      "metadata": {
        "colab": {
          "base_uri": "https://localhost:8080/"
        },
        "id": "XdrQrElN_TW7",
        "outputId": "46c1e0e0-f796-4929-8b01-c9bb071fbb83"
      },
      "source": [
        "np.sort(arr1, axis=1)"
      ],
      "execution_count": null,
      "outputs": [
        {
          "output_type": "execute_result",
          "data": {
            "text/plain": [
              "array([[-0.94142426, -0.46684043,  0.23395613],\n",
              "       [-1.6645963 , -0.27197482,  0.65721529],\n",
              "       [ 0.30340722,  0.41227298,  0.90849282],\n",
              "       [-1.51069495, -0.90383367,  0.23518625],\n",
              "       [-0.82967765, -0.72305704, -0.02220675]])"
            ]
          },
          "metadata": {
            "tags": []
          },
          "execution_count": 153
        }
      ]
    },
    {
      "cell_type": "code",
      "metadata": {
        "colab": {
          "base_uri": "https://localhost:8080/"
        },
        "id": "47kjxaP6_pJd",
        "outputId": "7850fde3-64ee-477c-e1eb-3f9c2b4cb6e5"
      },
      "source": [
        "np.sort(arr1, axis=0)"
      ],
      "execution_count": null,
      "outputs": [
        {
          "output_type": "execute_result",
          "data": {
            "text/plain": [
              "array([[-1.6645963 , -1.51069495, -0.02220675],\n",
              "       [-0.94142426, -0.72305704,  0.23395613],\n",
              "       [-0.90383367, -0.46684043,  0.23518625],\n",
              "       [-0.82967765, -0.27197482,  0.65721529],\n",
              "       [ 0.41227298,  0.30340722,  0.90849282]])"
            ]
          },
          "metadata": {
            "tags": []
          },
          "execution_count": 155
        }
      ]
    }
  ]
}